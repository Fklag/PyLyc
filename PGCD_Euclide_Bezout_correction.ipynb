{
 "cells": [
  {
   "cell_type": "markdown",
   "metadata": {},
   "source": [
    "![En tête general](img/En_tete_general.png)\n",
    "\n",
    "\n",
    "*(C) Copyright Franck CHEVRIER 2019-2020 http://www.python-lycee.com/*\n",
    "\n",
    "<span style=\"color: #9317B4\"> Pour exécuter une saisie Python, sélectionner la cellule et valider avec </span><span style=\"color: #B317B4\"><strong>SHIFT+Entrée</strong></span>.\n"
   ]
  },
  {
   "cell_type": "markdown",
   "metadata": {},
   "source": [
    "# <span style=\"color:#6C3483\">PGCD par l'algorithme d'Euclide et coefficients de Bézout</span> <span style=\"color:red\">(corrigé)</span>"
   ]
  },
  {
   "cell_type": "markdown",
   "metadata": {},
   "source": [
    "### <span style=\"color:#8E44AD\">Sommaire</span>\n",
    "\n",
    "<span style=\"color:#8E44AD\">1.</span> <a href=\"#1\">Description et étude de l'algorithme d'Euclide</a><br>\n",
    "<span style=\"color:#8E44AD\">2.</span> <a href=\"#2\">Implémentation Python de l'algorithme d'Euclide</a><br>\n",
    "<span style=\"color:#8E44AD\">3.</span> <a href=\"#3\">Identité de Bézout</a><br>\n",
    "<span style=\"color:#8E44AD\">4.</span> <a href=\"#4\">Implémentation Python de la recherche des coefficients de Bézout</a><br>\n"
   ]
  },
  {
   "cell_type": "markdown",
   "metadata": {},
   "source": [
    "## <span style=\"color:#8E44AD\" id=\"1\">1. Description et étude de l'algorithme d'Euclide</span>"
   ]
  },
  {
   "cell_type": "markdown",
   "metadata": {},
   "source": [
    "__1.1. On considère deux entiers naturels $a$ et $b$ non nuls. On note $q$ et $r$ respectivement le quotient et le reste de la division euclidienne de $a$ par $b$.__<br> \n",
    "__On a donc $a=bq+r$ avec $0 \\leqslant r<b$.__<br>\n",
    "__On note $D(a;b)$ (respectivement $D(b;r)$) l'ensemble des diviseurs communs de $a$ et $b$ (respectivement de $b$ et $r$).__<br>\n",
    "__Démontrer que $D(a;b)=D(b;r)$.__<br>\n",
    "Aide :<br>\n",
    "On pourra démontrer que tout diviseur commun de $a$ et de $b$ est aussi un diviseur commun de $b$ et de $r$, puis réciproquement que tout diviseur commun de $b$ et de $r$ est aussi un diviseur commun de $a$ et de $b$.\n",
    "\n",
    "<span style=\"color:red\">\n",
    "Soit $d \\in D(a;b)$ un diviseur commun à $a$ et $b$. $d$ divise donc toute combinaison linéaire de $a$ et $b$, et il divise en particulier $a-bq=r$. Donc d divise b et r, c'est à dire $d \\in D(b;r)$. On a démontré que $D(a;b) \\subset D(b;r)$.<br><br>\n",
    "Soit $d \\in D(b;r)$ un diviseur commun à $b$ et $r$. $d$ divise donc toute combinaison linéaire de $b$ et $r$, et il divise en particulier $bq+r=a$. Donc d divise a et b, c'est à dire $d \\in D(a;b)$. On a démontré que $D(b;r) \\subset D(a;b)$.<br><br>\n",
    "Finalement, on a bien démontré que $D(a;b)=D(b;r)$.\n",
    "</span> \n",
    "\n"
   ]
  },
  {
   "cell_type": "markdown",
   "metadata": {},
   "source": [
    "<p style='background-color:#F5EEF8;' >\n",
    "Il résulte du résultat précédent que la recherche du PGCD (plus grand commun diviseur) de deux nombres entiers naturels $a$ et $b$ non nuls peut se ramener à la recherche du PGCD de $b$ et $r$, où $r$ est le reste de la division euclidienne de $a$ par $b$.<br>\n",
    "Nous allons décrire une méthode de calcul qui permet de déterminer en un nombre fini d'opérations le PGCD de $a$ et $b$.<br>\n",
    "Nous l'appelerons <strong>algorithme d'Euclide</strong>.\n",
    "</p>\n"
   ]
  },
  {
   "cell_type": "markdown",
   "metadata": {},
   "source": [
    "__1.2. Dans cette question uniquement, on considère les nombres $a=525$ et $b=237$ dont on souhaite déterminer le PGCD.__<br>\n",
    "__Suivre la vidéo ci-dessous, qui traite ce cas particulier.__<br><br>\n",
    "\n",
    "<video controls src=\"video/Euclide_Bezout_1.mp4\" width=\"960\" height=\"540\" />\n"
   ]
  },
  {
   "cell_type": "markdown",
   "metadata": {},
   "source": [
    "__1.3. Dans cette question, on souhaite démontrer que la méthode détaillée ci-dessous permet de déterminer le PGCD de $a$ et $b$ en un nombre fini d'opérations.__\n",
    "\n",
    "\n",
    "\n",
    "<p style='background-color:#F5EEF8;' >\n",
    "On considère deux entiers naturels $a$ et $b$ non nuls.<br> \n",
    "On pose $\\color{red}{a_0=a}$ et $\\color{blue}{b_0=b}$ puis on considère la suite des divisions euclidiennes suivantes, réitérées tant que le reste $r_n$ n'est pas nul.<br><br>\n",
    "\\begin{array}{} \n",
    "\\color{red}{a_0} &=& \\color{blue}{b_0} \\; q_0 & + & \\color{green}{r_0} \\\\ \n",
    "\\; & \\color{blue}\\swarrow & \\; & \\color{green}\\swarrow \\\\ \n",
    "\\color{blue}{a_1} &=& \\color{green}{b_1} \\; q_1 & + & \\color{magenta}{r_1} \\\\ \n",
    "\\; & \\color{green}\\swarrow & \\; & \\color{magenta}\\swarrow \\\\ \n",
    "\\color{green}{a_2} &=& \\color{magenta}{b_2} \\; q_2 & + & \\color{brown}{r_2} \\\\ \n",
    "\\; & \\color{magenta}\\swarrow & \\; & \\color{brown}\\swarrow \\\\\n",
    "... & \\; & \\;... &  & ... \\\\ \n",
    "... & \\; & \\;... &  & ... \\\\\n",
    "\\color{lightblue}{a_{n-2}} &=& \\color{pink}{b_{n-2}} \\; q_{n-2} & + & \\color{orange}{r_{n-2}} \\\\ \n",
    "\\; & \\color{pink}\\swarrow & \\; & \\color{orange}\\swarrow \\\\ \n",
    "\\color{pink}{a_{n-1}} &=& \\color{orange}{b_{n-1}} \\; q_{n-1} & + & \\color{olive}{r_{n-1}} \\\\ \n",
    "\\; & \\color{orange}\\swarrow & \\; & \\color{olive}\\swarrow \\\\ \n",
    "\\color{orange}{a_n} &=& \\color{olive}{b_n} \\; q_n & + & \\color{purple}{r_n} \\\\ \n",
    "... & \\; & \\;... &  & ... \\\\ \n",
    "... & \\; & \\;... &  & ... \\\\ \n",
    "\\end{array}\n",
    "<br>\n",
    "$\\bullet$ Pour $n \\geqslant 0$ ; $q_n$ et $r_n$ sont respectivement le quotient et le reste de la division euclidienne de $a_n$ par $b_n$, et on a donc $0 \\leqslant r_n<b_n$.<br><br>\n",
    "$\\bullet$ Pour $n \\geqslant 1$ ; $a_n=b_{n-1}$ et $b_n=r_{n-1}$.\n",
    "</p>\n",
    "\n",
    "\n"
   ]
  },
  {
   "cell_type": "markdown",
   "metadata": {},
   "source": [
    "__a. Justifier que la suite des restes $(r_n)$ est strictement décroissante et minorée par 0. En déduire qu'il existe un rang $N$ tel que $r_N=0$.__\n",
    "\n",
    "<span style=\"color:red\"> Pour $n \\geqslant 1$, on a $0 \\leqslant r_n<b_n$ car $r_n$ est le reste de la division euclidienne de $a_n$ par $b_n$. Or $b_n=r_{n-1}$, donc on en déduit que $0 \\leqslant r_n<r_{n-1}$. La suite des restes $(r_n)$ est donc une suite d'entiers strictement décroissante et minorée par 0. Le nombre de termes strictement positifs de cette suite ne peut donc qu'être fini, et il existe un rang $N$ tel que $r_N=0$.\n",
    "</span>\n",
    "\n",
    "__b. On reprend ici les notations de la question 1.__ <br>\n",
    "$\\;\\;\\;$__Démontrer que $D(a;b)=D(b_N;0)$.__ \n",
    "\n",
    "<span style=\"color:red\"> \n",
    "Considérons la propriété $P(k):\"D(a;b)=D(b_k;r_k)\"$ pour $0 \\leqslant k \\leqslant N$ et démontrons la par récurrence sur $k$.<br><br>\n",
    "$D(a;b)=D(a_0;b_0)=D(b_0;r_0)$ (en utilisant le résultat démontré à la question 1), donc $P(0)$ est vraie.<br><br>\n",
    "Supposons que $P(k)$ soit vraie pour un $k$ fixé tel que $0 \\leqslant k \\leqslant N-1$.<br>\n",
    "On a donc:<br>\n",
    "$D(a;b)=D(b_k;r_k)$<br>\n",
    "$\\;\\;\\;\\;\\;\\;\\;\\;\\;\\;=D(a_{k+1};b_{k+1})$ car $b_k=a_{k+1}$ et $r_k=b_{k+1}$<br>\n",
    "$\\;\\;\\;\\;\\;\\;\\;\\;\\;\\;=D(b_{k+1};r_{k+1})$ d'après le résultat démontré à la question 1.<br>\n",
    "donc $P(k+1)$ est vraie.<br><br>\n",
    "Finalement, la propriété $P(k)$ étant fondée et héréditaire, elle est vraie pour tout $k$ tel que $0 \\leqslant k \\leqslant N$. En particulier, pour $k=N$, on obtient $D(a;b)=D(b_N;r_N)=D(b_N;0)$ puisque $r_N=0$.\n",
    "</span>\n",
    "\n",
    "\n",
    "__c. En déduire que $b_N$ est le PGCD de $a$ et $b$.__<br>\n",
    "$\\;\\;\\;$__En particulier, justifier que si $b$ ne divise pas $a$, alors $r_{N-1}$, dernier reste non nul obtenu, est le PGCD de $a$ et $b$.__\n",
    "\n",
    "<span style=\"color:red\"> \n",
    "Comme $D(a;b)=D(b_N;0)$, le PGCD de $a$ et $b$ est aussi le PGCD de $b_N$ et $0$, donc il vaut $b_N$.\n",
    "Dans le cas où $b$ ne divise pas $a$, alors $r_{N-1}$ existe et on a $r_{N-1}=b_N$ qui est par conséquent le PGCD de $a$ et $b$.\n",
    "</span>"
   ]
  },
  {
   "cell_type": "markdown",
   "metadata": {},
   "source": [
    "## <span style=\"color:#8E44AD\" id=\"2\">2. Implémentation Python de l'algorithme d'Euclide</span>"
   ]
  },
  {
   "cell_type": "markdown",
   "metadata": {},
   "source": [
    "__2.1. Exécuter chacune des cellules ci-dessous. Décrire brièvement ce que permettent de réaliser les syntaxes proposées.__"
   ]
  },
  {
   "cell_type": "code",
   "execution_count": 1,
   "metadata": {},
   "outputs": [
    {
     "data": {
      "text/plain": [
       "51"
      ]
     },
     "execution_count": 1,
     "metadata": {},
     "output_type": "execute_result"
    }
   ],
   "source": [
    "# Exécuter cette cellule\n",
    "\n",
    "a,b = 525,237\n",
    "\n",
    "a%b #renvoie le reste de la division euclidienne de a par b"
   ]
  },
  {
   "cell_type": "code",
   "execution_count": 2,
   "metadata": {},
   "outputs": [
    {
     "data": {
      "text/plain": [
       "(237, 51)"
      ]
     },
     "execution_count": 2,
     "metadata": {},
     "output_type": "execute_result"
    }
   ],
   "source": [
    "# Exécuter cette cellule\n",
    "\n",
    "a,b = 525,237\n",
    "\n",
    "a,b = b,a%b #permet de remplacer simultanément les valeurs stockées dans a et b respectivement par b et a%b\n",
    "\n",
    "a,b "
   ]
  },
  {
   "cell_type": "markdown",
   "metadata": {},
   "source": [
    "__2.2. Ecrire une fonction <mark>PGCD</mark> qui reçoit deux entiers naturels non nuls <mark>a</mark> et <mark>b</mark> en arguments, et renvoie leur PGCD déterminé à l'aide de l'algorithme d'Euclide.__ <br>\n",
    "Aide : <br>\n",
    "On utilisera une boucle, dans laquelle on modifiera pas à pas les valeurs des variables <mark>a</mark> et <mark>b</mark>.\n",
    "Par exemple, pour les valeurs initiales $525$ et $237$, les valeurs successives des variables seront :\n",
    "\n",
    "|  <mark>a</mark>   |  <mark>b</mark>   | <mark><span style=\"color:#7F8C8D\">a%b</span></mark> | \n",
    "|:-----|:-----|:-----|\n",
    "| 525  | 237  |  <span style=\"color:#7F8C8D\">51</span>   |\n",
    "| 237  |  51  |  <span style=\"color:#7F8C8D\">...</span>  |\n",
    "| ...  | ...  |  <span style=\"color:#7F8C8D\">...</span>  |\n",
    "| ...  | ...  |  <span style=\"color:#7F8C8D\">0</span>    |\n",
    "\n"
   ]
  },
  {
   "cell_type": "code",
   "execution_count": 3,
   "metadata": {},
   "outputs": [],
   "source": [
    "# Ecrire la fonction PGCD\n",
    "\n",
    "def PGCD(a,b):\n",
    "    \"calcule le PGCD de a et b\"\n",
    "    while a%b!=0:\n",
    "        a,b = b,a%b\n",
    "    return b\n",
    "\n",
    "#OU (avec une étape de boucle supplémentaire mais en évitant le double calcul de a%b)\n",
    "\n",
    "def PGCD(a,b):\n",
    "    \"calcule le PGCD de a et b\"\n",
    "    while b!=0:\n",
    "        a,b = b,a%b\n",
    "    return a\n"
   ]
  },
  {
   "cell_type": "code",
   "execution_count": 4,
   "metadata": {},
   "outputs": [
    {
     "data": {
      "text/plain": [
       "3"
      ]
     },
     "execution_count": 4,
     "metadata": {},
     "output_type": "execute_result"
    }
   ],
   "source": [
    "# Exécuter cette cellule pour vérifier\n",
    "\n",
    "PGCD(525,237)"
   ]
  },
  {
   "cell_type": "markdown",
   "metadata": {},
   "source": [
    "## <span style=\"color:#8E44AD\" id=\"3\">3. Étude de l'identité de Bézout</span>"
   ]
  },
  {
   "cell_type": "markdown",
   "metadata": {},
   "source": [
    "__3.1 Suivre la vidéo ci-dessous, qui reprend le cas particulier où $a=525$ et $b=237$.__<br><br>\n",
    "\n",
    "<video controls src=\"video/Euclide_Bezout_2.mp4\" width=\"960\" height=\"540\" />\n",
    "\n"
   ]
  },
  {
   "cell_type": "markdown",
   "metadata": {},
   "source": [
    "<p style='background-color:#F5EEF8;' >\n",
    "On reprend les notations précédemment introduites pour la mise en oeuvre de l'algorithme d'Euclide, où $a$ et $b$ sont des entiers naturels non nuls :<br><br>\n",
    "\n",
    "\\begin{array}{} \n",
    "\\color{red}{a_0} &=& \\color{blue}{b_0} q_0 & + & \\color{green}{r_0} \\\\ \n",
    "\\; & \\color{blue}\\swarrow & \\; & \\color{green}\\swarrow \\\\ \n",
    "\\color{blue}{a_1} &=& \\color{green}{b_1} q_1 & + & \\color{magenta}{r_1} \\\\ \n",
    "\\; & \\color{green}\\swarrow & \\; & \\color{magenta}\\swarrow \\\\ \n",
    "\\color{green}{a_2} &=& \\color{magenta}{b_2} q_1 & + & \\color{brown}{r_2} \\\\ \n",
    "\\; & \\color{magenta}\\swarrow & \\; & \\color{brown}\\swarrow \\\\\n",
    "... & \\; & \\;... &  & ... \\\\ \n",
    "... & \\; & \\;... &  & ... \\\\\n",
    "\\color{lightblue}{a_{n-2}} &=& \\color{pink}{b_{n-2}} q_{n-2} & + & \\color{orange}{r_{n-2}} \\\\ \n",
    "\\; & \\color{pink}\\swarrow & \\; & \\color{orange}\\swarrow \\\\ \n",
    "\\color{pink}{a_{n-1}} &=& \\color{orange}{b_{n-1}} q_{n-1} & + & \\color{olive}{r_{n-1}} \\\\ \n",
    "\\; & \\color{orange}\\swarrow & \\; & \\color{olive}\\swarrow \\\\ \n",
    "\\color{orange}{a_n} &=& \\color{olive}{b_n} q_n & + & \\color{purple}{r_n} \\\\ \n",
    "... & \\; & \\;... &  & ... \\\\ \n",
    "... & \\; & \\;... &  & ... \\\\ \n",
    "\\; & \\color{blue}\\swarrow & \\; & \\color{green}\\swarrow \\\\ \n",
    "\\color{blue}{a_{N-1}} &=& \\color{green}{b_{N-1}} q_{N-1} & + & \\color{magenta}{r_{N-1}} \\\\ \n",
    "\\; & \\color{green}\\swarrow & \\; & \\color{magenta}\\swarrow \\\\ \n",
    "\\color{green}{a_N} &=& \\color{magenta}{b_N} q_N & + & \\color{red}0 \\\\\n",
    "\\end{array}\n",
    "\n",
    "\n",
    "<br>\n",
    "Pour $0 \\leqslant n \\leqslant N $, nous allons déterminer des coefficients entiers relatifs $u_n$ et $v_n$ tels que  <span style='background-color:#D7BDE2;'>  $au_n+bv_n=r_n$ </span>.\n",
    "</p>"
   ]
  },
  {
   "cell_type": "markdown",
   "metadata": {},
   "source": [
    "__3.2. Vérifier que $u_0=1$ et $v_0=-q_0$ conviennent, c'est à dire qu'on a bien $au_0+bv_0=r_0$.__\n",
    "\n",
    "<span style=\"color:red\">\n",
    "$au_0+bv_0=a_0 \\times 1 +b_0 \\times (-q_0) =a_0-bq_0=r_0$\n",
    "</span>\n",
    "\n",
    "\n",
    "__3.3. Vérifier que $u_1=-q_1$ et $v_1=1+q_0q_1$ conviennent, c'est à dire qu'on a bien $au_1+bv_1=r_1$.__\n",
    "\n",
    "<span style=\"color:red\">\n",
    "$au_1+bv_1=a_0 \\times (-q_1)+b_0 \\times (1+q_0q_1)=-a_0q_1+b_0+bq_0q_1=b_0-(a_0-b_0q_0)q_1=a_1-r_0q_1=a_1-b_1q_1=r_1$\n",
    "</span>\n",
    "\n",
    "\n",
    "__3.4. Pour $2 \\leqslant n \\leqslant N$, on pose :__\n",
    "<br><br>\n",
    "$\\;\\;\\;\\;\\;$__$u_n=u_{n-2}-u_{n-1}q_n$__ \n",
    "<br>\n",
    "$\\;\\;\\;\\;\\;$__$v_n=v_{n-2}-v_{n-1}q_n$.__ \n",
    "<br><br>\n",
    "$\\;\\;\\;\\;\\;$__Démontrer par récurrence que pour tout entier $n$ tel que $2 \\leqslant n \\leqslant N$, $u_n$ et $v_n$ vérifient $au_n+bv_n=r_n$__\n",
    "\n",
    "\n",
    "<span style=\"color:red\"> \n",
    "Considérons, pour $0 \\leqslant n \\leqslant N$, la propriété $P(n):\"au_k+bv_k=r_k \\;\\;pour\\;\\; 0 \\leqslant k \\leqslant n\"$  et démontrons la par récurrence sur $n$.<br><br>\n",
    "$P(0)$ et $P(1)$ sont vraies d'après les questions précédentes.<br><br>\n",
    "Supposons que $P(n)$ est vraie pour un $n$ fixé tel que $0 \\leqslant n \\leqslant N-1$.<br>\n",
    "On a donc en particulier $au_{n-1}+bv_{n-1}=r_{n-1}$ et $au_n+bv_n=r_n$.<br>\n",
    "Alors:<br>\n",
    "$au_{n+1}+bv_{n+1}=a(u_{n-1}-u_nq_{n+1})+b(v_{n-1}-v_nq_{n+1})$<br>\n",
    "$\\;\\;\\;\\;\\;\\;\\;\\;\\;\\;\\;\\;\\;\\;\\;\\;\\;\\;\\;\\;=au_{n-1}+bv_{n-1}-q_{n+1}(au_n+bv_n)$<br>\n",
    "$\\;\\;\\;\\;\\;\\;\\;\\;\\;\\;\\;\\;\\;\\;\\;\\;\\;\\;\\;\\;=r_{n-1}-q_nr_n$<br>\n",
    "$\\;\\;\\;\\;\\;\\;\\;\\;\\;\\;\\;\\;\\;\\;\\;\\;\\;\\;\\;\\;=a_{n+1}-q_{n+1}b_{n+1}$ car $r_{n-1}=b_n=a_{n+1}$ et $r_n=b_{n+1}$<br>\n",
    "$\\;\\;\\;\\;\\;\\;\\;\\;\\;\\;\\;\\;\\;\\;\\;\\;\\;\\;\\;\\;=r_{n+1}$<br>\n",
    "Il en résulte que $P(n+1)$ est vraie.<br><br>\n",
    "Finalement, la propriété $P(n)$ étant fondée et héréditaire, elle est vraie pour tout $n$ tel que $0 \\leqslant n \\leqslant N$. \n",
    "</span>\n",
    "\n",
    "\n",
    "__3.5. Démontrer que:__\n",
    "\n",
    "<p style='background-color:#D7BDE2;'>\n",
    "    <strong> Identité de Bézout :</strong><br>\n",
    "    Pour $a$ et $b$ entiers relatifs non nuls dont le PGCD est $d$, il existe deux coefficients entiers relatifs $u$ et $v$ tels que $au+bv=d$.\n",
    "</p><br>\n",
    "Aide :<br>\n",
    "Pour le cas où $a$ et $b$ sont tous deux positifs, utiliser la question précédente et le fait que $d=r_{N-1}$.<br>\n",
    "Traiter ensuite le cas où $a$ et $b$ ne sont pas tous deux positifs.\n",
    "\n",
    "\n",
    "<span style=\"color:red\"> \n",
    "Dans le cas où $a$ et $b$ sont tous deux positifs:<br>\n",
    "En prenant $n=N-1$ dans le résultat démontré à la question précédente, on obtient $au_{N-1}+bv_{N-1}=r_{N-1}$ et on a donc l'égalité souhaitée en posant $u=u_{N-1}$ et $v=v_{N-1}$.<br><br>\n",
    "Dans le cas où $a$ et $b$ ne sont pas tous deux positifs:<br> Comme $\\vert a \\vert$ et $\\vert b \\vert$ sont positifs non nuls et ont même PGCD que $a$ et $b$, il existe deux coefficients entiers relatifs $u'$ et $v'$ tels que $\\vert a \\vert u'+\\vert b \\vert v'=d$.<br>\n",
    "On pose alors :<br>\n",
    "$u = \n",
    "\\begin{Bmatrix}\n",
    "   u' & \\hbox{ si }a \\hbox{ est positif}  \\\\\n",
    "   -u' & \\hbox{ si }a \\hbox{ est négatif}\n",
    "\\end{Bmatrix}\n",
    "$<br>\n",
    "$v = \n",
    "\\begin{Bmatrix}\n",
    "   v' & \\hbox{ si }b \\hbox{ est positif}  \\\\\n",
    "   -v' & \\hbox{ si }b \\hbox{ est négatif}\n",
    "\\end{Bmatrix}\n",
    "$<br>\n",
    "et on a bien, dans tous les cas : $au+bv=d$."
   ]
  },
  {
   "cell_type": "markdown",
   "metadata": {},
   "source": [
    "## <span style=\"color:#8E44AD\" id=\"4\">4. Implémentation Python de la recherche des coefficients de Bézout</span>"
   ]
  },
  {
   "cell_type": "markdown",
   "metadata": {},
   "source": [
    "<span style=\"color:#FF2222\">Avertissement : Cette implémentation Python utilise le calcul matriciel (au programme de Math-Expertes).</span>"
   ]
  },
  {
   "cell_type": "markdown",
   "metadata": {},
   "source": [
    "On reprend le cas de deux entiers naturels non nuls $a$ et $b$, et les notations utilisées dans les parties précédentes.\n",
    "\n",
    "On considère les matrices $P_n$ définies par : \n",
    "\n",
    "\n",
    "$P_0=\\left (\\begin{matrix} 0&1\\\\ u_0&v_0 \\end{matrix}\\right)=\\left (\\begin{matrix} 0&1\\\\ 1&-q_0 \\end{matrix}\\right)$\n",
    "<br><br>et pour $1 \\leqslant n \\leqslant N$ :<br><br>\n",
    "$P_n=\\left (\\begin{matrix} 0&1\\\\ 1&-q_{n} \\end{matrix}\\right) \\times P_{n-1}$  \n",
    "\n",
    "\n"
   ]
  },
  {
   "cell_type": "markdown",
   "metadata": {},
   "source": [
    "__4.1 Démontrer par récurrence que pour $1 \\leqslant n \\leqslant N$, on a $P_n=\\left (\\begin{matrix} u_{n-1}&v_{n-1}\\\\ u_n&v_n \\end{matrix}\\right)$.__\n",
    "\n",
    "Ainsi, les coefficients $u=u_{N-1}$ et $v=v_{N-1}$ de l'égalité de Bézout sont les coefficients de la première ligne de la matrice $P_N$.\n",
    "\n",
    "<span style=\"color:red\">\n",
    "Pour $1 \\leqslant n \\leqslant N$, on note $Q(n):\" P_n=\\left (\\begin{matrix} u_{n-1}&v_{n-1}\\\\ u_n&v_n \\end{matrix}\\right) \"$.<br><br>\n",
    "$P_1=\\left (\\begin{matrix} 0&1\\\\ 1&-q_1 \\end{matrix}\\right) \\times P_0$<br>\n",
    "$\\;\\;\\;\\;=\\left (\\begin{matrix} 0&1\\\\ 1&-q_1 \\end{matrix}\\right) \\times \\left (\\begin{matrix} 0&1\\\\ 1&-q_0 \\end{matrix}\\right)$<br>\n",
    "$\\;\\;\\;\\;=\\left (\\begin{matrix} 1&-q_0\\\\ -q_1&1+q_0q_1 \\end{matrix}\\right)$<br>\n",
    "$\\;\\;\\;\\;=\\left (\\begin{matrix} u_0&v_0\\\\ u_1&v_1 \\end{matrix}\\right)$<br>\n",
    "donc $Q(1)$ est vraie.<br><br>\n",
    "Supposons que $Q(n)$ est vraie pour un $n$ fixé tel que $1 \\leqslant n \\leqslant N-1$. On a donc $P_n=\\left (\\begin{matrix} u_{n-1}&v_{n-1}\\\\ u_n&v_n \\end{matrix}\\right)$.<br> \n",
    "Alors :<br>\n",
    "$P_{n+1}=\\left (\\begin{matrix} 0&1\\\\ 1&-q_{n+1} \\end{matrix}\\right) \\times P_n$<br>\n",
    "$\\;\\;\\;\\;\\;\\;\\;\\;= \\left( \\begin{matrix} 0&1\\\\ 1&-q_{n+1} \\end{matrix}\\right) \\times \\left (\\begin{matrix} u_{n-1}&v_{n-1}\\\\ u_n&v_n \\end{matrix}\\right)$<br>\n",
    "$\\;\\;\\;\\;\\;\\;\\;\\;= \\left( \\begin{matrix} u_n&v_n\\\\ u_{n-1}-u_nq_{n+1}&v_{n-1}-v_nq_{n+1} \\end{matrix}\\right)$<br>\n",
    "$\\;\\;\\;\\;\\;\\;\\;\\;= \\left( \\begin{matrix} u_n&v_n\\\\ u_{n+1}&v_{n+1} \\end{matrix}\\right)$<br>\n",
    "donc $Q(1)$ est vraie.<br><br>\n",
    "Finalement, la propriété $P(n)$ étant fondée et héréditaire, elle est vraie pour tout $n$ tel que $1 \\leqslant n \\leqslant N$. \n",
    "</span>"
   ]
  },
  {
   "cell_type": "markdown",
   "metadata": {},
   "source": [
    "__4.2 Exécuter les cellules suivantes, qui donnent des syntaxes permettant d'obtenir le quotient d'une division euclidienne, de définir une matrice et d'en extraire des valeurs.__"
   ]
  },
  {
   "cell_type": "code",
   "execution_count": 5,
   "metadata": {},
   "outputs": [
    {
     "data": {
      "text/plain": [
       "2"
      ]
     },
     "execution_count": 5,
     "metadata": {},
     "output_type": "execute_result"
    }
   ],
   "source": [
    "a = 525\n",
    "b = 237\n",
    "\n",
    "# Syntaxe pour obtenir le quotient d'une division euclidienne\n",
    "q = a//b\n",
    "\n",
    "q"
   ]
  },
  {
   "cell_type": "code",
   "execution_count": 6,
   "metadata": {},
   "outputs": [
    {
     "data": {
      "text/plain": [
       "array([[ 0,  1],\n",
       "       [ 1, -2]])"
      ]
     },
     "execution_count": 6,
     "metadata": {},
     "output_type": "execute_result"
    }
   ],
   "source": [
    "import numpy as np\n",
    "\n",
    "# Syntaxes pour définir une matrice\n",
    "# Chacune des listes intérieures correspond à une ligne de la matrice\n",
    "P = np.array([ [ 0 , 1 ] , [ 1 , -q ] ]) \n",
    "\n",
    "P # Cette matrice correspond à P_0"
   ]
  },
  {
   "cell_type": "code",
   "execution_count": 7,
   "metadata": {},
   "outputs": [
    {
     "data": {
      "text/plain": [
       "(0, 1)"
      ]
     },
     "execution_count": 7,
     "metadata": {},
     "output_type": "execute_result"
    }
   ],
   "source": [
    "s,t = P[0]\n",
    "\n",
    "s,t # Ces valeurs correspondent à la première ligne de la matrice P_0\n"
   ]
  },
  {
   "cell_type": "markdown",
   "metadata": {},
   "source": [
    "__4.3 Exécuter la cellule ci-dessous, qui permet de calculer P_1 à partir de P_0. Exécuter ensuite plusieurs fois d'affilée cette cellule. Quelles sont les matrices obtenues, stockées successivement dans P? Justifier.__\n",
    "\n",
    "<span style=\"color:red\">\n",
    "On obtient successivement les matrices $P_1$, $P_2$, $P_3$ ... car la cellule permet d'appliquer la formule de récurrence vérifiée par ces matrices.\n",
    "</span>"
   ]
  },
  {
   "cell_type": "code",
   "execution_count": 8,
   "metadata": {},
   "outputs": [
    {
     "data": {
      "text/plain": [
       "array([[ 1, -2],\n",
       "       [-4,  9]])"
      ]
     },
     "execution_count": 8,
     "metadata": {},
     "output_type": "execute_result"
    }
   ],
   "source": [
    "a,b = b,a%b\n",
    "q = a//b\n",
    "\n",
    "# Syntaxe pour multiplier deux matrices\n",
    "P = np.dot( np.array([ [ 0 , 1 ] , [ 1 , -q ] ]) , P )\n",
    "\n",
    "P "
   ]
  },
  {
   "cell_type": "markdown",
   "metadata": {},
   "source": [
    "__4.4 Ecrire une fonction <mark>Bezout</mark> qui reçoit en argument deux entiers naturels non nuls $a$ et $b$, et qui renvoie leur PGCD et les coefficients de Bézout associés $u$ et $v$.__<br>\n",
    "Aide:<br>\n",
    "On pourra reprendre et modifier la fonction Python de la question 2.2."
   ]
  },
  {
   "cell_type": "code",
   "execution_count": 9,
   "metadata": {},
   "outputs": [],
   "source": [
    "# Ecrire la fonction Bezout\n",
    "import numpy as np\n",
    "\n",
    "def Bezout(a,b):\n",
    "    \n",
    "    #Calcul de P_0\n",
    "    q = a//b\n",
    "    P = np.array([ [ 0 , 1 ] , [ 1 , -q ] ]) \n",
    "    \n",
    "    #même test d'arrêt que pour l'algorithme d'Euclide\n",
    "    while a%b!=0:\n",
    "        a,b = b,a%b\n",
    "        q = a//b\n",
    "        P = np.dot( np.array([ [ 0 , 1 ] , [ 1 , -q ] ]) , P )\n",
    "    \n",
    "    u,v = P[0]\n",
    "    \n",
    "    return b,u,v\n"
   ]
  },
  {
   "cell_type": "code",
   "execution_count": 10,
   "metadata": {},
   "outputs": [
    {
     "data": {
      "text/plain": [
       "(-3, 14, -31)"
      ]
     },
     "execution_count": 10,
     "metadata": {},
     "output_type": "execute_result"
    }
   ],
   "source": [
    "# Exécuter cette cellule pour tester la fonction\n",
    "\n",
    "Bezout(-525,-237)"
   ]
  },
  {
   "cell_type": "markdown",
   "metadata": {},
   "source": [
    "![Euclide_et_Bézout](img/Euclide_Bezout.png)\n",
    "\n",
    "<center>Euclide (IVème-IIIème siècle av JC) et Étienne Bézout (1730-1783)</center>"
   ]
  },
  {
   "cell_type": "markdown",
   "metadata": {},
   "source": [
    "*(C) Copyright Franck CHEVRIER 2019-2020 http://www.python-lycee.com/*\n"
   ]
  }
 ],
 "metadata": {
  "celltoolbar": "Raw Cell Format",
  "kernelspec": {
   "display_name": "Python 3",
   "language": "python",
   "name": "python3"
  },
  "language_info": {
   "codemirror_mode": {
    "name": "ipython",
    "version": 3
   },
   "file_extension": ".py",
   "mimetype": "text/x-python",
   "name": "python",
   "nbconvert_exporter": "python",
   "pygments_lexer": "ipython3",
   "version": "3.6.4"
  }
 },
 "nbformat": 4,
 "nbformat_minor": 2
}
