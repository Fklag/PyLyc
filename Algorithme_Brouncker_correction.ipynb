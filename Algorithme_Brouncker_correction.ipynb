{
 "cells": [
  {
   "cell_type": "markdown",
   "metadata": {},
   "source": [
    "![En tête general](img/En_tete_general.png)\n",
    "\n",
    "\n",
    "*(C) Copyright Franck CHEVRIER 2019-2020 http://www.python-lycee.com/*\n",
    "\n",
    "<span style=\"color: #9317B4\"> Pour exécuter une saisie Python, sélectionner la cellule et valider avec </span><span style=\"color: #B317B4\"><strong>SHIFT+Entrée</strong></span>.\n"
   ]
  },
  {
   "cell_type": "markdown",
   "metadata": {},
   "source": [
    "# <span style=\"color:#6C3483\">Algorithme de Brouncker pour le calcul de ln(2)</span> <span style=\"color:red\">(corrigé)</span>"
   ]
  },
  {
   "cell_type": "markdown",
   "metadata": {},
   "source": [
    "### <span style=\"color:#8E44AD\">Sommaire</span>\n",
    "\n",
    "\n",
    "<span style=\"color:#8E44AD\">1.</span> <a href=\"#1\">Construction géométrique</a><br>\n",
    "<span style=\"color:#8E44AD\">2.</span> <a href=\"#2\">Implémentation de l'algorithme de Brouncker</a><br>\n",
    "\n"
   ]
  },
  {
   "cell_type": "markdown",
   "metadata": {},
   "source": [
    "<span style=\"color: #7C39C9\">*Le but de l'activité est d'obtenir une valeur approchée de $ln(2)$ à l'aide de l'<strong>algorithme de Brouncker</strong>, qui est basé sur une méthode géométrique.*</span>"
   ]
  },
  {
   "cell_type": "markdown",
   "metadata": {},
   "source": [
    "## <span style=\"color:#8E44AD\" id=\"1\">1. Construction géométrique</span>"
   ]
  },
  {
   "cell_type": "markdown",
   "metadata": {},
   "source": [
    "On considère la fonction $h$ définie sur $\\mathbb{R}^*  $ par $h(x)=\\frac{1}{x}$.\n",
    "<br><br>\n",
    "__1.1. Démontrer que $ln(2)$ est l'aire de la zone délimitée par l'axe des abscisses, la courbe de la fonction $h$ et les droites d'équations $x=1$ et $x=2$. On cherche donc à donner une estimation de cette aire.__\n",
    "<br><br>\n",
    "\n",
    "<span style=\"color:red\"><br>\n",
    "$\\int\\limits_1^2{h(x)dx}=\\int\\limits_1^2{\\frac{1}{x}dx}=[ln(x)]_1^2=ln(2)$<br><br> \n",
    "Ceci prouve que l'aire de la zone délimitée par l'axe des abscisses, la courbe de la fonction $h$ et les droites d'équations $x=1$ et $x=2$ vaut $ln(2)$.<br><br><br>\n",
    "</span>\n",
    "\n",
    "<em>La figure dynamique suivante permet de visualiser la construction géométrique mise en œuvre.</em>\n",
    "<br><br>\n",
    "<span style=\"color: #FF0000\">Pour faire apparaître et activer l'animation, sélectionner la cellule ci-dessous et valider avec <strong>SHIFT+Entrée</strong>.</span>\n",
    "\n",
    "\n",
    "<span style=\"color: #BDBFBF\">Vous pouvez ensuite utiliser les menus cinématiques :</span>\n",
    "\n",
    "\n",
    "![Menus_animation](img/menus_animation_GeoGebra.png)\n"
   ]
  },
  {
   "cell_type": "code",
   "execution_count": 1,
   "metadata": {},
   "outputs": [
    {
     "data": {
      "text/html": [
       "<html>\n",
       "\t<head>\n",
       "\t\t<!-- Algorithme de Brouncker -->\n",
       "\t\t<!-- Copyright Franck CHEVRIER www.python-lycee.com -->\n",
       "\t\t<title></title>\n",
       "\t\t<script type=\"text/javascript\" src=\"GeoGebraWeb/webSimple/webSimple.nocache.js\"></script>\n",
       "\t</head>\n",
       "\t<body>\n",
       "\t\t<center>\n",
       "\t\t\t\t\t\t\n",
       "\t\t\t<div>\n",
       "\t\t\t\t<article class=\"geogebraweb\"\n",
       "\t\t\t\t\n",
       "\t\t\t\t\tdata-param-width=\"820\" data-param-height=\"630\"\n",
       "\t\t\t\t\tdata-param-ggbBase64=\"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\"\n",
       "\t\t\t\t\tdata-param-enableRightClick=\"false\"\n",
       "\t\t\t\t\tdata-param-enableLabelDrags=\"false\"\n",
       "\t\t\t\t\tdata-param-enableShiftDragZoom=\"false\"\n",
       "\t\t\t\t\tdata-param-showMenuBar=\"false\"\n",
       "\t\t\t\t\tdata-param-showToolBar=\"false\"\n",
       "\t\t\t\t\tdata-param-showAlgebraInput=\"false\"\n",
       "\t\t\t\t\tdata-param-showResetIcon=\"true\"\n",
       "\t\t\t\t\tdata-param-useBrowserForJS=\"true\"> \n",
       "\t\t\t\t\t\t\t\t\n",
       "\t\t\t\t</article>\n",
       "\t\t\t</div>\n",
       "\t\t</center>\n",
       "\t</body>\n",
       "</html>\n"
      ],
      "text/plain": [
       "<IPython.core.display.HTML object>"
      ]
     },
     "metadata": {},
     "output_type": "display_data"
    }
   ],
   "source": [
    "#Sélectionner cette zone puis SHIFT+ENTREE\n",
    "from IPython.display import display, HTML ; display(HTML('fig_dyn_GeoGebra/Brouncker.html'))"
   ]
  },
  {
   "cell_type": "markdown",
   "metadata": {},
   "source": [
    "<br><br>\n",
    "On \"empile\" successivement des rectangles sous la courbe de $h$ de la façon suivante : \n",
    "<ul>\n",
    "    <li>Le premier rectangle est construit sur l'axe des abscisses, entre les abscisses $1$ et $2$, et de hauteur maximale sous la courbe de $h$ ;</li>\n",
    "    <li>À chaque étape, on introduit les milieux des abscisses utilisées à l'étape précédente, et on construit à partir de ces abscisses et des précédentes des rectangles situés au dessus des précédents, de hauteurs maximales sous la courbe de $h$.</li>\n",
    "</ul>\n",
    "<br>\n",
    "Au vu de la figure, on <strong>admettra</strong> que les sommes des aires des rectangles ainsi successivement construits ont pour limite l'aire de la zone que l'on cherche à calculer.\n",
    "\n",
    "Pour la suite, on utilisera les notations introduites sur les figures fournies.<br><br>\n",
    "\n",
    "__1.2. a. Calculer $Aire(R_1)$.__<br>\n",
    "__$\\quad\\;$ b. En raisonnant par soustraction, justifier que $Aire(R_2)=\\frac{1}{3}-\\frac{1}{4}$__<br>\n",
    "\n",
    "<span style=\"color:red\">\n",
    "a. $Aire(R_1)=1 \\times h(2) = \\frac{1}{2}$<br>\n",
    "b. $Aire(R_2)=\\frac{1}{2} \\times h(\\frac{3}{2}) - \\frac{1}{2} \\times h(2) = \\frac{1}{2} \\times \\frac{2}{3} - \\frac{1}{2} \\times \\frac{1}{2} = \\frac{1}{3} - \\frac{1}{4}$\n",
    "</span>\n"
   ]
  },
  {
   "cell_type": "markdown",
   "metadata": {},
   "source": [
    "![Brouncker_etape1](img/Brouncker_img1.png)"
   ]
  },
  {
   "cell_type": "markdown",
   "metadata": {},
   "source": [
    "__1.3. En raisonnant par soustraction, justifier que $Aire(R_3)=\\frac{1}{5}-\\frac{1}{6}$ puis que $Aire(R_4)=\\frac{1}{7}-\\frac{1}{8}$.__<br>\n",
    "\n",
    "<span style=\"color:red\">\n",
    "$Aire(R_3)=\\frac{1}{4} \\times h(\\frac{5}{4}) - \\frac{1}{4} \\times h(\\frac{6}{4}) = \\frac{1}{4} \\times \\frac{4}{5} - \\frac{1}{4} \\times \\frac{4}{6} = \\frac{1}{5} - \\frac{1}{6}$<br>\n",
    "$Aire(R_4)=\\frac{1}{4} \\times h(\\frac{7}{4}) - \\frac{1}{4} \\times h(2) = \\frac{1}{4} \\times \\frac{4}{7} - \\frac{1}{4} \\times \\frac{1}{2} = \\frac{1}{7} - \\frac{1}{8}$\n",
    "</span>"
   ]
  },
  {
   "cell_type": "markdown",
   "metadata": {},
   "source": [
    "![Brouncker_etape2](img/Brouncker_img2.png)"
   ]
  },
  {
   "cell_type": "markdown",
   "metadata": {},
   "source": [
    "__1.4 Donner les valeurs de $Aire(R_5)$, $Aire(R_6)$, $Aire(R_7)$ et $Aire(R_8)$.__<br><br>\n",
    "<span style=\"color:red\">\n",
    "$Aire(R_5)=\\frac{1}{9} - \\frac{1}{10}$<br>\n",
    "$Aire(R_6)=\\frac{1}{11} - \\frac{1}{12}$<br>\n",
    "$Aire(R_7)=\\frac{1}{13} - \\frac{1}{14}$<br>\n",
    "$Aire(R_8)=\\frac{1}{15} - \\frac{1}{16}$<br>\n",
    "</span>"
   ]
  },
  {
   "cell_type": "markdown",
   "metadata": {},
   "source": [
    "![Brouncker_etape3](img/Brouncker_img3.png)"
   ]
  },
  {
   "cell_type": "markdown",
   "metadata": {},
   "source": [
    "## <span style=\"color:#8E44AD\" id=\"2\">2. Implémentation de l'algorithme de Brouncker</span>"
   ]
  },
  {
   "cell_type": "markdown",
   "metadata": {},
   "source": [
    "__2.1. Soit $k\\in\\mathbb{N}^*$. En réduisant au même dénominateur, exprimer $\\frac{1}{2k-1}-\\frac{1}{2k}$ sous forme d'une fraction.__\n",
    "<br>\n",
    "\n",
    "<span style=\"color:red\">\n",
    "$\\frac{1}{2k-1}-\\frac{1}{2k}=\\frac{2k}{(2k-1)\\times(2k)}-\\frac{2k-1}{(2k-1)\\times(2k)}=\\frac{1}{(2k-1)\\times(2k)}$\n",
    "</span><br>\n",
    "\n",
    "__2.2. Justifier que la somme des $8$ rectangles $R_k$ précédemment construits, pour $1\\leq k \\leq 8$, vaut $ \\sum\\limits_{k=1}^8{\\frac{1}{(2k-1)\\times(2k)}} =\\frac{1}{1\\times2}+\\frac{1}{3\\times4}+...+\\frac{1}{15\\times16}$.__\n",
    "<br>\n",
    "\n",
    "<span style=\"color:red\">\n",
    "On a démontré que pour $1\\leq k \\leq 8$, on a $Aire(R_k)=\\frac{1}{2k-1}-\\frac{1}{2k}$, ce qui s'écrit $Aire(R_k)=\\frac{1}{(2k-1)\\times(2k)}$ et la somme des aires de ces $8$ rectangles vaut bien $ \\sum\\limits_{k=1}^8{\\frac{1}{(2k-1)\\times(2k)}} =\\frac{1}{1\\times2}+\\frac{1}{3\\times4}+...+\\frac{1}{15\\times16}$.\n",
    "</span><br>\n",
    "\n",
    "\n",
    "\n",
    "\n",
    "__2.3. Écrire une fonction Python <mark>Brouncker</mark> qui permet de calculer cette somme.__\n",
    "<br>$\\quad\\;$On pourra incrémenter un accumulateur S dans une boucle pour additionner, l'une après l'autre, les aires de ces rectangles."
   ]
  },
  {
   "cell_type": "code",
   "execution_count": 2,
   "metadata": {},
   "outputs": [
    {
     "data": {
      "text/plain": [
       "0.6628718503718504"
      ]
     },
     "execution_count": 2,
     "metadata": {},
     "output_type": "execute_result"
    }
   ],
   "source": [
    "# Écrire ici la fonction Brouncker qui renvoie la somme des 8 rectangles \n",
    "\n",
    "def Brouncker():\n",
    "    \"Méthode de Brouncker appliquée avec 8 rectangles pour le calcul de ln(2)\"\n",
    "    S=0\n",
    "    for k in range(1,9):\n",
    "        S = S+1/((2*k-1)*2*k)\n",
    "    return S\n",
    "\n",
    "# Écrire ici l'appel à la fonction Brouncker\n",
    "Brouncker()"
   ]
  },
  {
   "cell_type": "markdown",
   "metadata": {},
   "source": [
    "On admet maintenant que la somme $ \\sum\\limits_{k=1}^n{\\frac{1}{(2k-1)\\times(2k)}} =\\frac{1}{1\\times2}+\\frac{1}{3\\times4}+...+\\frac{1}{(2n-1)\\times(2n)}$ a pour limite $ln(2)$ quand $n$ tend vers $+\\infty$.\n",
    "\n",
    "\n",
    "\n",
    "__2.4. Adapter la fonction <mark>Brouncker</mark> précédente pour qu'elle reçoive $n$ en argument et permette de calculer cette somme.__"
   ]
  },
  {
   "cell_type": "code",
   "execution_count": 3,
   "metadata": {},
   "outputs": [],
   "source": [
    "# Écrire ici la fonction Brouncker qui renvoie la somme des n rectangles \n",
    "\n",
    "def Brouncker(n):\n",
    "    \"Méthode de Brouncker appliquée avec n rectangles pour le calcul de ln(2)\"\n",
    "    S=0\n",
    "    for k in range(1,n+1):\n",
    "        S = S+1/((2*k-1)*2*k)\n",
    "    return S"
   ]
  },
  {
   "cell_type": "markdown",
   "metadata": {},
   "source": [
    "__2.5. Effectuer une saisie pour obtenir une valeur approchée de $ln(2)$ obtenue par la méthode de Brouncker avec 100000 rectangles.__"
   ]
  },
  {
   "cell_type": "code",
   "execution_count": 4,
   "metadata": {},
   "outputs": [
    {
     "data": {
      "text/plain": [
       "0.6931446805661907"
      ]
     },
     "execution_count": 4,
     "metadata": {},
     "output_type": "execute_result"
    }
   ],
   "source": [
    "# Écrire ici l'appel à la fonction Brouncker\n",
    "Brouncker(100000)"
   ]
  },
  {
   "cell_type": "markdown",
   "metadata": {},
   "source": [
    "__2.6. La syntaxe <mark>from math import log</mark> permet d'utiliser la fonction Python <mark>log</mark> qui correspond à la fonction mathématique $ln$.__<br>\n",
    "__$\\quad\\;\\;$Effectuer la saisie nécessaire pour calculer $ln(2)$, puis comparer avec le résultat obtenu à la question précédente.__<br>"
   ]
  },
  {
   "cell_type": "code",
   "execution_count": 5,
   "metadata": {},
   "outputs": [
    {
     "data": {
      "text/plain": [
       "0.6931471805599453"
      ]
     },
     "execution_count": 5,
     "metadata": {},
     "output_type": "execute_result"
    }
   ],
   "source": [
    "# Écrire ici les saisies nécessaires pour calculer le logarithme népérien de 2\n",
    "from math import log\n",
    "\n",
    "log(2)"
   ]
  },
  {
   "cell_type": "markdown",
   "metadata": {},
   "source": [
    "![Brouncker](img/William_Brouncker.jpg)\n",
    "\n",
    "<center><a href=\"https://fr.wikipedia.org/wiki/William_Brouncker\">William Brouncker</a> (1620-1684) </center>"
   ]
  },
  {
   "cell_type": "markdown",
   "metadata": {},
   "source": [
    "*(C) Copyright Franck CHEVRIER 2019-2020 http://www.python-lycee.com/*\n"
   ]
  }
 ],
 "metadata": {
  "celltoolbar": "Raw Cell Format",
  "kernelspec": {
   "display_name": "Python 3",
   "language": "python",
   "name": "python3"
  },
  "language_info": {
   "codemirror_mode": {
    "name": "ipython",
    "version": 3
   },
   "file_extension": ".py",
   "mimetype": "text/x-python",
   "name": "python",
   "nbconvert_exporter": "python",
   "pygments_lexer": "ipython3",
   "version": "3.7.8"
  }
 },
 "nbformat": 4,
 "nbformat_minor": 2
}
