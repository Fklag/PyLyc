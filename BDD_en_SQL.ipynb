{
 "cells": [
  {
   "cell_type": "code",
   "execution_count": null,
   "metadata": {},
   "outputs": [],
   "source": [
    "import sqlite3\n",
    "\n",
    "fichierDonnees =\"essai3.sq3\"\n",
    "conn =sqlite3.connect(fichierDonnees)\n",
    "cur =conn.cursor()\n",
    "cur.execute(\"CREATE TABLE membres (age INTEGER, nom TEXT, taille REAL)\")\n",
    "\n",
    "cur.execute(\"INSERT INTO membres(age,nom,taille) VALUES(21,'Dupont',1.83)\")\n",
    "cur.execute(\"INSERT INTO membres(age,nom,taille) VALUES(15,'Blumâr',1.57)\")\n",
    "cur.execute(\"INSERT Into membres(age,nom,taille) VALUES(18,'Özémir',1.69)\")\n",
    "conn.commit()\n",
    "\n",
    "cur.close()\n",
    "conn.close()"
   ]
  },
  {
   "cell_type": "code",
   "execution_count": null,
   "metadata": {},
   "outputs": [],
   "source": [
    "fichierDonnees =\"essai3.sq3\"\n",
    "conn =sqlite3.connect(fichierDonnees)\n",
    "cur =conn.cursor()\n",
    "\n",
    "cur.execute(\"SELECT * FROM membres\")\n",
    "cur.fetchall() "
   ]
  },
  {
   "cell_type": "code",
   "execution_count": null,
   "metadata": {},
   "outputs": [],
   "source": [
    "import sqlite3\n",
    " \n",
    "baseDonn = sqlite3.connect(\"musique.sql\")\n",
    "cur = baseDonn.cursor()\n",
    "while 1:\n",
    "    print(\"Veuillez entrer votre requête SQL (ou <Enter> pour terminer) :\")\n",
    "    requete = input()\n",
    "    if requete ==\"\":\n",
    "        break\n",
    "    try:\n",
    "        cur.execute(requete)\t   # exécution de la requête SQL\n",
    "    except:\n",
    "        print('*** Requête SQL incorrecte ***')\n",
    "    else:\n",
    "        for enreg in cur: \t# Affichage du résultat\n",
    "            print(enreg)\n",
    "    print()\n",
    " \n",
    "choix = input(\"Confirmez-vous l'enregistrement de l'état actuel (o/n) ? \")\n",
    "if choix[0] == \"o\" or choix[0] == \"O\":\n",
    "    baseDonn.commit()\n",
    "else:\n",
    "    baseDonn.close()"
   ]
  },
  {
   "cell_type": "code",
   "execution_count": null,
   "metadata": {},
   "outputs": [],
   "source": [
    "#import tkinter and ttk modules\n",
    "import tkinter\n",
    "from tkinter import ttk\n",
    "print(\"ok\")\n",
    "#Make the root widget\n",
    "root = tkinter.Tk()\n",
    "print(\"ok\")\n",
    "#Make the notebook\n",
    "nb = ttk.Notebook(root)\n",
    "nb.pack()\n",
    "print(\"ok\")\n",
    "#Make 1st tab\n",
    "f1 = tkinter.Frame(nb)\n",
    "#Add the tab\n",
    "nb.add(f1, text=\"First tab\")\n",
    "print(\"ok\")\n",
    "#Make 2nd tab\n",
    "f2 = tkinter.Frame(nb)\n",
    "#Add 2nd tab \n",
    "nb.add(f2, text=\"Second tab\")\n",
    "print(\"ok\")\n",
    "nb.select(f2)\n",
    "print(\"ok\")\n",
    "nb.enable_traversal()\n",
    "print(\"ok\")\n",
    "#Enter the mainloop\n",
    "root.mainloop()\n",
    "print(\"ok\")"
   ]
  },
  {
   "cell_type": "markdown",
   "metadata": {},
   "source": [
    "https://python.developpez.com/cours/apprendre-python3/?page=page_18"
   ]
  }
 ],
 "metadata": {
  "kernelspec": {
   "display_name": "Python 3",
   "language": "python",
   "name": "python3"
  },
  "language_info": {
   "codemirror_mode": {
    "name": "ipython",
    "version": 3
   },
   "file_extension": ".py",
   "mimetype": "text/x-python",
   "name": "python",
   "nbconvert_exporter": "python",
   "pygments_lexer": "ipython3",
   "version": "3.6.4"
  }
 },
 "nbformat": 4,
 "nbformat_minor": 2
}
