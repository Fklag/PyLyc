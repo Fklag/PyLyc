{
 "cells": [
  {
   "cell_type": "markdown",
   "metadata": {},
   "source": [
    "![En tête general](img/En_tete_general.png)\n",
    "\n",
    "\n",
    "*(C) Copyright Franck CHEVRIER 2019-2020 http://www.python-lycee.com/*\n",
    "\n",
    "<span style=\"color: #9317B4\"> Pour exécuter une saisie Python, sélectionner la cellule et valider avec </span><span style=\"color: #B317B4\"><strong>SHIFT+Entrée</strong></span>.\n",
    "\n"
   ]
  },
  {
   "cell_type": "markdown",
   "metadata": {},
   "source": [
    "# Suites de Syracuse <span style=\"color: red\"> (corrigé)</span>"
   ]
  },
  {
   "cell_type": "markdown",
   "metadata": {},
   "source": [
    "<span style=\"color: #7C39C9\">*En langage Python, l’écriture __a%b__ permet de renvoyer le reste de la division euclidienne de __a__ par __b__ (où __a__ et __b__ sont des nombres entiers positifs, __b__ non nul).*</span>\n"
   ]
  },
  {
   "cell_type": "markdown",
   "metadata": {},
   "source": [
    "__0. Question préliminaire :__\n",
    "Si __a__ est une variable contenant un nombre entier positif :\n",
    "* Quelles sont les valeurs que peut renvoyer la saisie ci-dessous ?\t\n"
   ]
  },
  {
   "cell_type": "code",
   "execution_count": 1,
   "metadata": {},
   "outputs": [
    {
     "data": {
      "text/plain": [
       "1"
      ]
     },
     "execution_count": 1,
     "metadata": {},
     "output_type": "execute_result"
    }
   ],
   "source": [
    "a=35 #Modifier cette valeur pour les tests\n",
    "a%2 "
   ]
  },
  {
   "cell_type": "markdown",
   "metadata": {},
   "source": [
    "* A quelles propriétés du nombre __a__ correspondent chacune de ces valeurs ?"
   ]
  },
  {
   "cell_type": "markdown",
   "metadata": {},
   "source": [
    "<span style=\"color: #7C39C9\">*__Définition de la suite de Syracuse associée à un nombre $a$ :__*</span>\n",
    "\n",
    "<span style=\"color: #7C39C9\">A partir d’un entier non nul __$a$__, on peut construire une suite de nombres de la façon suivante :</span>\n",
    "\n",
    "\n",
    "<span style=\"color: #7C39C9\">\n",
    "$u_0=a$  et    \n",
    "</span>\n",
    "\n",
    "\n",
    "\n",
    "<span style=\"color: #7C39C9\">\n",
    "$u_{n+1} = \n",
    "\\begin{Bmatrix}\n",
    "   \\frac{u_n}{2} & \\hbox{ si $u_n$ est pair}  \\\\\n",
    "   3u_n+1 & \\hbox{ si $u_n$ est impair}  \n",
    "\\end{Bmatrix}\n",
    "$\n",
    "</span>\n",
    "\n",
    "\n",
    "<span style=\"color: #7C39C9\">(chaque terme de la suite est obtenu en divisant le précédent par 2 si celui-ci est pair, et en le multipliant par 3 et en ajoutant 1 s’il est impair)</span>\n",
    "\n",
    "<strong>La vidéo ci-dessous présente la construction d'une suite de Syracuse.</strong>\n",
    "\n",
    "<video controls src=\"video/Syracuse.mp4\" width=\"960\" height=\"540\"/>"
   ]
  },
  {
   "cell_type": "markdown",
   "metadata": {},
   "source": [
    "<strong>La figure dynamique qui suit permet de représenter une suite de Syracuse.</strong>\n",
    "\n",
    "<span style=\"color: #FF0000\">*(Pour faire apparaître et activer la figure dynamique, sélectionner la cellule et valider avec <strong>SHIFT+Entrée</strong>).*</span>"
   ]
  },
  {
   "cell_type": "code",
   "execution_count": 2,
   "metadata": {},
   "outputs": [
    {
     "data": {
      "text/html": [
       "<html>\n",
       "\t<head>\n",
       "\t\t<!-- Suites de Syracuse -->\n",
       "\t\t<!-- Copyright Franck CHEVRIER www.python-lycee.com -->\n",
       "\t\t<title></title>\n",
       "\t\t<script type=\"text/javascript\" src=\"GeoGebraWeb/webSimple/webSimple.nocache.js\"></script>\n",
       "\t</head>\n",
       "\t<body>\n",
       "\t\t<center>\n",
       "\t\t\t\t\t\t\n",
       "\t\t\t<div>\n",
       "\t\t\t\t<article class=\"geogebraweb\"\n",
       "\t\t\t\t\n",
       "\t\t\t\t\tdata-param-width=\"735\" data-param-height=\"435\"\n",
       "\t\t\t\t\tdata-param-ggbBase64=\"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\"\n",
       "\t\t\t\t\tdata-param-enableRightClick=\"false\"\n",
       "\t\t\t\t\tdata-param-enableLabelDrags=\"false\"\n",
       "\t\t\t\t\tdata-param-enableShiftDragZoom=\"false\"\n",
       "\t\t\t\t\tdata-param-showMenuBar=\"false\"\n",
       "\t\t\t\t\tdata-param-showToolBar=\"false\"\n",
       "\t\t\t\t\tdata-param-showAlgebraInput=\"false\"\n",
       "\t\t\t\t\tdata-param-showResetIcon=\"true\"\n",
       "\t\t\t\t\tdata-param-useBrowserForJS=\"true\"> \n",
       "\t\t\t\t\t\t\t\t\n",
       "\t\t\t\t</article>\n",
       "\t\t\t</div>\n",
       "\t\t</center>\n",
       "\t</body>\n",
       "</html>\n"
      ],
      "text/plain": [
       "<IPython.core.display.HTML object>"
      ]
     },
     "metadata": {},
     "output_type": "display_data"
    }
   ],
   "source": [
    "#Sélectionner cette zone puis SHIFT+ENTREE\n",
    "from IPython.display import display, HTML ; display(HTML('fig_dyn_GeoGebra/Syracuse.html'))"
   ]
  },
  {
   "cell_type": "markdown",
   "metadata": {},
   "source": [
    "__1. Calculer, à la main, les 6 premiers termes de la suite de Syracuse associée au nombre 17, et vérifier à l'aide de la figure dynamique précédente.__"
   ]
  },
  {
   "cell_type": "markdown",
   "metadata": {},
   "source": [
    "__2. Ecrire une fonction Python suiv_Syracuse(p) :__\n",
    "* __qui reçoit en argument un terme p d’une suite de Syracuse ;__\n",
    "* __qui renvoie le terme suivant de la suite.__\n",
    "\n",
    "NOTE : Pour s’assurer que la valeur renvoyée soit de type int, on pourra écrire la division sous la forme // qui renvoie le quotient entier d’une division."
   ]
  },
  {
   "cell_type": "code",
   "execution_count": 3,
   "metadata": {},
   "outputs": [],
   "source": [
    "def suiv_Syracuse(p):\n",
    "    \"calcul du terme suivant d'une suite de Syracuse\"\n",
    "    if p%2==0:\n",
    "        return p//2\n",
    "    else:\n",
    "        return 3*p+1\n"
   ]
  },
  {
   "cell_type": "code",
   "execution_count": 4,
   "metadata": {
    "scrolled": false
   },
   "outputs": [
    {
     "data": {
      "text/plain": [
       "52"
      ]
     },
     "execution_count": 4,
     "metadata": {},
     "output_type": "execute_result"
    }
   ],
   "source": [
    "suiv_Syracuse(17)"
   ]
  },
  {
   "cell_type": "markdown",
   "metadata": {},
   "source": [
    "__3. On considère la fonction Python Deb_Syracuse(a) suivante :__"
   ]
  },
  {
   "cell_type": "code",
   "execution_count": 5,
   "metadata": {},
   "outputs": [],
   "source": [
    "def Deb_Syracuse(a) :\n",
    "    L=[a]\n",
    "    for k in range(3) :\n",
    "        n=len(L)\n",
    "        suiv=suiv_Syracuse(L[n-1])\n",
    "        L.append(suiv)\n",
    "    return L"
   ]
  },
  {
   "cell_type": "markdown",
   "metadata": {},
   "source": [
    "* __Compléter le tableau suivant avec les valeurs prises successivement par les variables, si on appelle la fonction Deb_Syracuse(a) avec a=7.__\n",
    "\n",
    "|   k      |         suiv    |    L       |\n",
    "| :----:   |: -------------: | :--------: |\n",
    "|   /      |                 |     [ 7 ]  |  \n",
    "|   0      |                 |            |\n",
    "|   1      |                 |            |\n",
    "|   2      |                 |            |\n",
    "|          |                 |            |\n",
    "|          |                 |            |"
   ]
  },
  {
   "cell_type": "markdown",
   "metadata": {},
   "source": [
    "* __Vérifier que la liste renvoyée par l’instruction >>> Deb_Syracuse(7) est cohérente avec votre tableau.__"
   ]
  },
  {
   "cell_type": "code",
   "execution_count": 6,
   "metadata": {},
   "outputs": [
    {
     "data": {
      "text/plain": [
       "[7, 22, 11, 34]"
      ]
     },
     "execution_count": 6,
     "metadata": {},
     "output_type": "execute_result"
    }
   ],
   "source": [
    "Deb_Syracuse(7)"
   ]
  },
  {
   "cell_type": "markdown",
   "metadata": {},
   "source": [
    "* __Quelle est l’utilité de cette fonction Deb_Syracuse(a) ?__"
   ]
  },
  {
   "cell_type": "markdown",
   "metadata": {},
   "source": [
    "__4. Ecrire une fonction Python Tab_Syracuse(a,N) :__\n",
    "* __qui reçoit en arguments le 1er terme a d’une suite de Syracuse et un nombre entier n≥1 ;__\n",
    "* __qui renvoie la liste des N premiers termes de cette suite de Syracuse.__\n"
   ]
  },
  {
   "cell_type": "code",
   "execution_count": 7,
   "metadata": {},
   "outputs": [],
   "source": [
    "def Tab_Syracuse(a,N):\n",
    "    \"établit la liste des N premiers termes d'une suite de Syracuse\"\n",
    "    L=[a]\n",
    "    for k in range(N-1) :\n",
    "        a=suiv_Syracuse(a)\n",
    "        L.append(a)\n",
    "    return L"
   ]
  },
  {
   "cell_type": "code",
   "execution_count": 8,
   "metadata": {},
   "outputs": [
    {
     "data": {
      "text/plain": [
       "[17, 52, 26, 13, 40, 20, 10, 5, 16, 8]"
      ]
     },
     "execution_count": 8,
     "metadata": {},
     "output_type": "execute_result"
    }
   ],
   "source": [
    "Tab_Syracuse(17,10)"
   ]
  },
  {
   "cell_type": "markdown",
   "metadata": {},
   "source": [
    "<span style=\"color: #7C39C9\">*__Notion de vol associé à un nombre a :__*</span>\n",
    "\n",
    "<span style=\"color: #7C39C9\">On appelle vol correspondant à a, la liste des valeurs obtenues par la suite de Syracuse à partir de a, et s’arrêtant au premier terme valant 1. (*)</span>\n",
    "\n",
    "<span style=\"color: #7C39C9\">On appelle durée du vol le nombre de termes de la liste, et on appelle altitude maximale la plus grande valeur de cette liste.</span>\n",
    "\n"
   ]
  },
  {
   "cell_type": "markdown",
   "metadata": {},
   "source": [
    "__5. Compléter, à la main, la suite de nombres obtenus à la question 1) pour obtenir le vol correspondant au nombre 17.\n",
    "Quelle est la longueur de ce vol ? Quelle est l’altitude maximale de ce vol ?__\n"
   ]
  },
  {
   "cell_type": "markdown",
   "metadata": {},
   "source": [
    "__6. Ecrire une fonction Python Vol_Syracuse(a) :__\n",
    "* __qui reçoit en argument le 1er terme a d’une suite de Syracuse__\n",
    "* __qui renvoie la liste correspondant au vol obtenu avec a.__\n"
   ]
  },
  {
   "cell_type": "code",
   "execution_count": 9,
   "metadata": {},
   "outputs": [],
   "source": [
    "def Vol_Syracuse(a):\n",
    "    \"établit la liste correspondant à un vol\"\n",
    "    L=[a]\n",
    "    n=len(L)\n",
    "    while a!=1: #L[-1] donne le dernier élément de la liste L    \n",
    "        a=suiv_Syracuse(a)\n",
    "        L.append(a)\n",
    "    return L"
   ]
  },
  {
   "cell_type": "code",
   "execution_count": 10,
   "metadata": {},
   "outputs": [
    {
     "data": {
      "text/plain": [
       "[17, 52, 26, 13, 40, 20, 10, 5, 16, 8, 4, 2, 1]"
      ]
     },
     "execution_count": 10,
     "metadata": {},
     "output_type": "execute_result"
    }
   ],
   "source": [
    "Vol_Syracuse(17)\n"
   ]
  },
  {
   "cell_type": "markdown",
   "metadata": {},
   "source": [
    "__7. Expliquer, pour chacune des instructions, ce que représente le résultat obtenu.__"
   ]
  },
  {
   "cell_type": "code",
   "execution_count": 11,
   "metadata": {},
   "outputs": [
    {
     "data": {
      "text/plain": [
       "[137,\n",
       " 412,\n",
       " 206,\n",
       " 103,\n",
       " 310,\n",
       " 155,\n",
       " 466,\n",
       " 233,\n",
       " 700,\n",
       " 350,\n",
       " 175,\n",
       " 526,\n",
       " 263,\n",
       " 790,\n",
       " 395,\n",
       " 1186,\n",
       " 593,\n",
       " 1780,\n",
       " 890,\n",
       " 445,\n",
       " 1336,\n",
       " 668,\n",
       " 334,\n",
       " 167,\n",
       " 502,\n",
       " 251,\n",
       " 754,\n",
       " 377,\n",
       " 1132,\n",
       " 566,\n",
       " 283,\n",
       " 850,\n",
       " 425,\n",
       " 1276,\n",
       " 638,\n",
       " 319,\n",
       " 958,\n",
       " 479,\n",
       " 1438,\n",
       " 719,\n",
       " 2158,\n",
       " 1079,\n",
       " 3238,\n",
       " 1619,\n",
       " 4858,\n",
       " 2429,\n",
       " 7288,\n",
       " 3644,\n",
       " 1822,\n",
       " 911,\n",
       " 2734,\n",
       " 1367,\n",
       " 4102,\n",
       " 2051,\n",
       " 6154,\n",
       " 3077,\n",
       " 9232,\n",
       " 4616,\n",
       " 2308,\n",
       " 1154,\n",
       " 577,\n",
       " 1732,\n",
       " 866,\n",
       " 433,\n",
       " 1300,\n",
       " 650,\n",
       " 325,\n",
       " 976,\n",
       " 488,\n",
       " 244,\n",
       " 122,\n",
       " 61,\n",
       " 184,\n",
       " 92,\n",
       " 46,\n",
       " 23,\n",
       " 70,\n",
       " 35,\n",
       " 106,\n",
       " 53,\n",
       " 160,\n",
       " 80,\n",
       " 40,\n",
       " 20,\n",
       " 10,\n",
       " 5,\n",
       " 16,\n",
       " 8,\n",
       " 4,\n",
       " 2,\n",
       " 1]"
      ]
     },
     "execution_count": 11,
     "metadata": {},
     "output_type": "execute_result"
    }
   ],
   "source": [
    "v=Vol_Syracuse(137)\n",
    "v"
   ]
  },
  {
   "cell_type": "code",
   "execution_count": 12,
   "metadata": {},
   "outputs": [
    {
     "data": {
      "text/plain": [
       "9232"
      ]
     },
     "execution_count": 12,
     "metadata": {},
     "output_type": "execute_result"
    }
   ],
   "source": [
    "max(v)"
   ]
  },
  {
   "cell_type": "code",
   "execution_count": 13,
   "metadata": {},
   "outputs": [
    {
     "data": {
      "text/plain": [
       "91"
      ]
     },
     "execution_count": 13,
     "metadata": {},
     "output_type": "execute_result"
    }
   ],
   "source": [
    "len(v)"
   ]
  },
  {
   "cell_type": "markdown",
   "metadata": {},
   "source": [
    "__8. Prolongements possibles :__\n",
    "* __Ecrire une fonction Python qui renvoie la plus petite valeur a dont le vol atteint une altitude au moins égale à 150.\n",
    "Adapter la fonction pour qu’elle renvoie la plus petite valeur a dont le vol atteint une altitude au moins égale à M, où M est passé en argument.__\n",
    "* __Ecrire une fonction Python qui renvoie la plus petite valeur a dont la durée de vol est supérieure à 40.\n",
    "Adapter la fonction pour qu’elle renvoie la plus petite valeur a dont la durée de vol est supérieure à T, où T est passé en argument.__\n",
    "* __Ecrire une fonction Python qui renvoie la valeur de a inférieure à 100000 pour laquelle le vol est le plus long.\n",
    "Adapter la fonction pour qu’elle renvoie la valeur de a inférieure à N pour laquelle la durée de vol est maximale, où N est passé en argument.__\n",
    "* __Ecrire une fonction Python qui renvoie la valeur de a inférieure à 100000 pour laquelle l’altitude atteinte est maximale.\n",
    "Adapter la fonction pour qu’elle renvoie la valeur de a inférieure à N pour laquelle l’altitude atteinte est maximale, où N est passé en argument.__\n"
   ]
  },
  {
   "cell_type": "code",
   "execution_count": 14,
   "metadata": {},
   "outputs": [],
   "source": [
    "def altitude_150():\n",
    "    \"renvoie le plus petit a tel que le vol atteint l'altitude 150\"\n",
    "    a=1\n",
    "    while max(Vol_Syracuse(a))<150:\n",
    "        a=a+1\n",
    "    return a\n",
    "    \n",
    "def duree_vol_40():\n",
    "    \"renvoie le plus petit a tel que le vol a une durée d'au moins 40\"\n",
    "    a=1\n",
    "    while len(Vol_Syracuse(a))<40:\n",
    "        a=a+1\n",
    "    return a    \n",
    "        \n",
    "def altitude(M):\n",
    "    \"renvoie le plus petit a tel que le vol atteint l'altitude M\"\n",
    "    a=1\n",
    "    while max(Vol_Syracuse(a))<M:\n",
    "        a=a+1\n",
    "    return a\n",
    "    \n",
    "def duree_vol(T):\n",
    "    \"renvoie le plus petit a tel que le vol a une durée d'au moins T\"\n",
    "    a=1\n",
    "    while len(Vol_Syracuse(a))<T:\n",
    "        a=a+1\n",
    "    return a     \n",
    "\n",
    "def vol_le_plus_long(N):\n",
    "    \"renvoie la valeur de a inférieure à N pour laquelle le vol est le plus long\"\n",
    "    candidat=1\n",
    "    longueur_cand=1\n",
    "    for a in range(2,N):\n",
    "        long_a=len(Vol_Syracuse(a)) #pour ne pas effectuer 2x le calcul\n",
    "        if long_a>longueur_cand:\n",
    "            candidat=a\n",
    "            longueur_cand=long_a\n",
    "    return candidat #on peut compléter avec: ,longueur\n",
    "\n",
    "def vol_le_plus_haut(N):\n",
    "    \"renvoie la valeur de a inférieure à N pour laquelle l'altitude atteinte est maximale\"\n",
    "    candidat=1\n",
    "    altitude=1\n",
    "    for a in range(2,N):\n",
    "        alt_a=max(Vol_Syracuse(a)) #pour ne pas effectuer 2x le calcul\n",
    "        if alt_a>altitude:\n",
    "            candidat=a\n",
    "            altitude=alt_a\n",
    "    return candidat #on peut compléter avec: ,altitude\n",
    "\n"
   ]
  },
  {
   "cell_type": "code",
   "execution_count": 15,
   "metadata": {},
   "outputs": [
    {
     "data": {
      "text/plain": [
       "(15, 27, 77031, 77671)"
      ]
     },
     "execution_count": 15,
     "metadata": {},
     "output_type": "execute_result"
    }
   ],
   "source": [
    "# 8a , 8b , 8c , 8d\n",
    "altitude_150() , duree_vol_40() , vol_le_plus_long(100000) , vol_le_plus_haut(100000)"
   ]
  },
  {
   "cell_type": "markdown",
   "metadata": {},
   "source": [
    "<span style=\"color: #7C39C9\">(*) NOTE: La conjecture de Syracuse stipule que quelle que soit la valeur a choisie, la suite de Syracuse finira par « atterrir », c'est-à-dire qu’elle atteindra au bout d’un nombre fini d’itérations la valeur 1.  A ce jour, cette conjecture n’a jamais été démontrée, mais elle a été vérifiée pour tous les entiers inférieurs à $2^{62}≈4,6×10^{18}$… avec des ordinateurs évidemment.</span>\n",
    "\n",
    "Lothar Collatz (1910 – 1990)\n",
    "est à l’origine de cette conjecture \n",
    "\n",
    "![Collatz Lothar](img/Suites_Syracuse_Collatz.png)\n",
    "\n",
    "\n"
   ]
  },
  {
   "cell_type": "markdown",
   "metadata": {},
   "source": [
    "*(C) Copyright Franck CHEVRIER 2019-2020 http://www.python-lycee.com/*\n"
   ]
  },
  {
   "cell_type": "code",
   "execution_count": null,
   "metadata": {},
   "outputs": [],
   "source": []
  }
 ],
 "metadata": {
  "celltoolbar": "Raw Cell Format",
  "kernelspec": {
   "display_name": "Python 3",
   "language": "python",
   "name": "python3"
  },
  "language_info": {
   "codemirror_mode": {
    "name": "ipython",
    "version": 3
   },
   "file_extension": ".py",
   "mimetype": "text/x-python",
   "name": "python",
   "nbconvert_exporter": "python",
   "pygments_lexer": "ipython3",
   "version": "3.7.6"
  }
 },
 "nbformat": 4,
 "nbformat_minor": 2
}
