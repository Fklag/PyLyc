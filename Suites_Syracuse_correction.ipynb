{
 "cells": [
  {
   "cell_type": "markdown",
   "metadata": {},
   "source": [
    "![En tête general](img/En_tete_general.png)\n",
    "\n",
    "\n",
    "*(C) Copyright Franck CHEVRIER 2019-2020 http://www.python-lycee.com/*\n",
    "\n",
    "<span style=\"color: #9317B4\"> Pour exécuter une saisie Python, sélectionner la cellule et valider avec </span><span style=\"color: #B317B4\"><strong>SHIFT+Entrée</strong></span>.\n",
    "\n"
   ]
  },
  {
   "cell_type": "markdown",
   "metadata": {},
   "source": [
    "# Suites de Syracuse <span style=\"color: red\"> (corrigé)</span>"
   ]
  },
  {
   "cell_type": "markdown",
   "metadata": {},
   "source": [
    "<span style=\"color: #7C39C9\">*En langage Python, l’écriture __a%b__ permet de renvoyer le reste de la division euclidienne de __a__ par __b__ (où __a__ et __b__ sont des nombres entiers positifs, __b__ non nul).*</span>\n"
   ]
  },
  {
   "cell_type": "markdown",
   "metadata": {},
   "source": [
    "__0. Question préliminaire :__\n",
    "Si __a__ est une variable contenant un nombre entier positif :\n",
    "* Quelles sont les valeurs que peut renvoyer la saisie ci-dessous ?\t\n"
   ]
  },
  {
   "cell_type": "code",
   "execution_count": 2,
   "metadata": {},
   "outputs": [
    {
     "data": {
      "text/plain": [
       "1"
      ]
     },
     "execution_count": 2,
     "metadata": {},
     "output_type": "execute_result"
    }
   ],
   "source": [
    "a=35 #Modifier cette valeur pour les tests\n",
    "a%2 "
   ]
  },
  {
   "cell_type": "markdown",
   "metadata": {},
   "source": [
    "* A quelles propriétés du nombre __a__ correspondent chacune de ces valeurs ?"
   ]
  },
  {
   "cell_type": "markdown",
   "metadata": {},
   "source": [
    "__1. Calculer, à la main, les 6 premiers termes de la suite de Syracuse associée au nombre 17.__"
   ]
  },
  {
   "cell_type": "markdown",
   "metadata": {},
   "source": [
    "<span style=\"color: #7C39C9\">*__Définition de la suite de Syracuse associée à un nombre $a$ :__*</span>\n",
    "\n",
    "<span style=\"color: #7C39C9\">A partir d’un entier non nul __$a$__, on peut construire une suite de nombres de la façon suivante :</span>\n",
    "\n",
    "<span style=\"color: #7C39C9\">\n",
    "$u_0=a$  \n",
    "$u_{n+1} = \n",
    "\\begin{Bmatrix}\n",
    "   \\frac{u_n}{2} & \\hbox{ si $u_n$ est pair}  \\\\\n",
    "   3u_n+1 & \\hbox{ si $u_n$ est impair}  \n",
    "\\end{Bmatrix}\n",
    "$\n",
    "\n",
    "<span style=\"color: #7C39C9\">(chaque terme de la suite est obtenu en divisant le précédent par 2 si celui-ci est pair, et en le multipliant par 3 et en ajoutant 1 s’il est impair)</span>"
   ]
  },
  {
   "cell_type": "markdown",
   "metadata": {},
   "source": [
    "__2. Ecrire une fonction Python suiv_Syracuse(p) :__\n",
    "* __qui reçoit en argument un terme p d’une suite de Syracuse ;__\n",
    "* __qui renvoie le terme suivant de la suite.__\n",
    "\n",
    "NOTE : Pour s’assurer que la valeur renvoyée soit de type int, on pourra écrire la division sous la forme // qui renvoie le quotient entier d’une division."
   ]
  },
  {
   "cell_type": "code",
   "execution_count": 3,
   "metadata": {},
   "outputs": [],
   "source": [
    "def suiv_Syracuse(p):\n",
    "    \"calcul du terme suivant d'une suite de Syracuse\"\n",
    "    if p%2==0:\n",
    "        return p//2\n",
    "    else:\n",
    "        return 3*p+1\n"
   ]
  },
  {
   "cell_type": "code",
   "execution_count": 5,
   "metadata": {
    "scrolled": false
   },
   "outputs": [
    {
     "data": {
      "text/plain": [
       "52"
      ]
     },
     "execution_count": 5,
     "metadata": {},
     "output_type": "execute_result"
    }
   ],
   "source": [
    "suiv_Syracuse(17)"
   ]
  },
  {
   "cell_type": "markdown",
   "metadata": {},
   "source": [
    "__3. On considère la fonction Python Deb_Syracuse(a) suivante :__"
   ]
  },
  {
   "cell_type": "code",
   "execution_count": 6,
   "metadata": {},
   "outputs": [],
   "source": [
    "def Deb_Syracuse(a) :\n",
    "    L=[a]\n",
    "    for k in range(3) :\n",
    "        n=len(L)\n",
    "        suiv=suiv_Syracuse(L[n-1])\n",
    "        L.append(suiv)\n",
    "    return L"
   ]
  },
  {
   "cell_type": "markdown",
   "metadata": {},
   "source": [
    "* __Compléter le tableau suivant avec les valeurs prises successivement par les variables, si on appelle la fonction Deb_Syracuse(a) avec a=7.__\n",
    "\n",
    "|   k      |         suiv    |    L       |\n",
    "| :----:   |: -------------: | :--------: |\n",
    "|   /      |                 |     [ 7 ]  |  \n",
    "|   0      |                 |            |\n",
    "|   1      |                 |            |\n",
    "|   2      |                 |            |\n",
    "|          |                 |            |\n",
    "|          |                 |            |"
   ]
  },
  {
   "cell_type": "markdown",
   "metadata": {},
   "source": [
    "* __Vérifier que la liste renvoyée par l’instruction >>> Deb_Syracuse(7) est cohérente avec votre tableau.__"
   ]
  },
  {
   "cell_type": "code",
   "execution_count": 7,
   "metadata": {},
   "outputs": [
    {
     "data": {
      "text/plain": [
       "[7, 22, 11, 34]"
      ]
     },
     "execution_count": 7,
     "metadata": {},
     "output_type": "execute_result"
    }
   ],
   "source": [
    "Deb_Syracuse(7)"
   ]
  },
  {
   "cell_type": "markdown",
   "metadata": {},
   "source": [
    "* __Quelle est l’utilité de cette fonction Deb_Syracuse(a) ?__"
   ]
  },
  {
   "cell_type": "markdown",
   "metadata": {},
   "source": [
    "__4. Ecrire une fonction Python Tab_Syracuse(a,N) :__\n",
    "* __qui reçoit en arguments le 1er terme a d’une suite de Syracuse et un nombre entier n≥1 ;__\n",
    "* __qui renvoie la liste des N premiers termes de cette suite de Syracuse.__\n"
   ]
  },
  {
   "cell_type": "code",
   "execution_count": 9,
   "metadata": {},
   "outputs": [],
   "source": [
    "def Tab_Syracuse(a,N):\n",
    "    \"établit la liste des N premiers termes d'une suite de Syracuse\"\n",
    "    L=[a]\n",
    "    for k in range(N-1) :\n",
    "        a=suiv_Syracuse(a)\n",
    "        L.append(a)\n",
    "    return L"
   ]
  },
  {
   "cell_type": "code",
   "execution_count": 11,
   "metadata": {},
   "outputs": [
    {
     "data": {
      "text/plain": [
       "[17, 52, 26, 13, 40, 20, 10, 5, 16, 8]"
      ]
     },
     "execution_count": 11,
     "metadata": {},
     "output_type": "execute_result"
    }
   ],
   "source": [
    "Tab_Syracuse(17,10)"
   ]
  },
  {
   "cell_type": "markdown",
   "metadata": {},
   "source": [
    "<span style=\"color: #7C39C9\">*__Notion de vol associé à un nombre a :__*</span>\n",
    "\n",
    "<span style=\"color: #7C39C9\">On appelle vol correspondant à a, la liste des valeurs obtenues par la suite de Syracuse à partir de a, et s’arrêtant au premier terme valant 1. (*)</span>\n",
    "\n",
    "<span style=\"color: #7C39C9\">On appelle durée du vol le nombre de termes de la liste, et on appelle altitude maximale la plus grande valeur de cette liste.</span>\n",
    "\n"
   ]
  },
  {
   "cell_type": "markdown",
   "metadata": {},
   "source": [
    "__5. Compléter, à la main, la suite de nombres obtenus à la question 1) pour obtenir le vol correspondant au nombre 17.\n",
    "Quelle est la longueur de ce vol ? Quelle est l’altitude maximale de ce vol ?__\n"
   ]
  },
  {
   "cell_type": "markdown",
   "metadata": {},
   "source": [
    "__6. Ecrire une fonction Python Vol_Syracuse(a) :__\n",
    "* __qui reçoit en argument le 1er terme a d’une suite de Syracuse__\n",
    "* __qui renvoie la liste correspondant au vol obtenu avec a.__\n"
   ]
  },
  {
   "cell_type": "code",
   "execution_count": 12,
   "metadata": {},
   "outputs": [],
   "source": [
    "def Vol_Syracuse(a):\n",
    "    \"établit la liste correspondant à un vol\"\n",
    "    L=[a]\n",
    "    n=len(L)\n",
    "    while a!=1: #L[-1] donne le dernier élément de la liste L    \n",
    "        a=suiv_Syracuse(a)\n",
    "        L.append(a)\n",
    "    return L"
   ]
  },
  {
   "cell_type": "code",
   "execution_count": 13,
   "metadata": {},
   "outputs": [
    {
     "data": {
      "text/plain": [
       "[17, 52, 26, 13, 40, 20, 10, 5, 16, 8, 4, 2, 1]"
      ]
     },
     "execution_count": 13,
     "metadata": {},
     "output_type": "execute_result"
    }
   ],
   "source": [
    "Vol_Syracuse(17)\n"
   ]
  },
  {
   "cell_type": "markdown",
   "metadata": {},
   "source": [
    "__7. Expliquer, pour chacune des instructions, ce que représente le résultat obtenu.__"
   ]
  },
  {
   "cell_type": "code",
   "execution_count": 14,
   "metadata": {},
   "outputs": [
    {
     "data": {
      "text/plain": [
       "[137,\n",
       " 412,\n",
       " 206,\n",
       " 103,\n",
       " 310,\n",
       " 155,\n",
       " 466,\n",
       " 233,\n",
       " 700,\n",
       " 350,\n",
       " 175,\n",
       " 526,\n",
       " 263,\n",
       " 790,\n",
       " 395,\n",
       " 1186,\n",
       " 593,\n",
       " 1780,\n",
       " 890,\n",
       " 445,\n",
       " 1336,\n",
       " 668,\n",
       " 334,\n",
       " 167,\n",
       " 502,\n",
       " 251,\n",
       " 754,\n",
       " 377,\n",
       " 1132,\n",
       " 566,\n",
       " 283,\n",
       " 850,\n",
       " 425,\n",
       " 1276,\n",
       " 638,\n",
       " 319,\n",
       " 958,\n",
       " 479,\n",
       " 1438,\n",
       " 719,\n",
       " 2158,\n",
       " 1079,\n",
       " 3238,\n",
       " 1619,\n",
       " 4858,\n",
       " 2429,\n",
       " 7288,\n",
       " 3644,\n",
       " 1822,\n",
       " 911,\n",
       " 2734,\n",
       " 1367,\n",
       " 4102,\n",
       " 2051,\n",
       " 6154,\n",
       " 3077,\n",
       " 9232,\n",
       " 4616,\n",
       " 2308,\n",
       " 1154,\n",
       " 577,\n",
       " 1732,\n",
       " 866,\n",
       " 433,\n",
       " 1300,\n",
       " 650,\n",
       " 325,\n",
       " 976,\n",
       " 488,\n",
       " 244,\n",
       " 122,\n",
       " 61,\n",
       " 184,\n",
       " 92,\n",
       " 46,\n",
       " 23,\n",
       " 70,\n",
       " 35,\n",
       " 106,\n",
       " 53,\n",
       " 160,\n",
       " 80,\n",
       " 40,\n",
       " 20,\n",
       " 10,\n",
       " 5,\n",
       " 16,\n",
       " 8,\n",
       " 4,\n",
       " 2,\n",
       " 1]"
      ]
     },
     "execution_count": 14,
     "metadata": {},
     "output_type": "execute_result"
    }
   ],
   "source": [
    "v=Vol_Syracuse(137)\n",
    "v"
   ]
  },
  {
   "cell_type": "code",
   "execution_count": 15,
   "metadata": {},
   "outputs": [
    {
     "data": {
      "text/plain": [
       "9232"
      ]
     },
     "execution_count": 15,
     "metadata": {},
     "output_type": "execute_result"
    }
   ],
   "source": [
    "max(v)"
   ]
  },
  {
   "cell_type": "code",
   "execution_count": 16,
   "metadata": {},
   "outputs": [
    {
     "data": {
      "text/plain": [
       "91"
      ]
     },
     "execution_count": 16,
     "metadata": {},
     "output_type": "execute_result"
    }
   ],
   "source": [
    "len(v)"
   ]
  },
  {
   "cell_type": "markdown",
   "metadata": {},
   "source": [
    "__8. Prolongements possibles :__\n",
    "* __Ecrire une fonction Python qui renvoie la plus petite valeur a dont le vol atteint une altitude au moins égale à 150.\n",
    "Adapter la fonction pour qu’elle renvoie la plus petite valeur a dont le vol atteint une altitude au moins égale à M, où M est passé en argument.__\n",
    "* __Ecrire une fonction Python qui renvoie la plus petite valeur a dont la durée de vol est supérieure à 40.\n",
    "Adapter la fonction pour qu’elle renvoie la plus petite valeur a dont la durée de vol est supérieure à T, où T est passé en argument.__\n",
    "* __Ecrire une fonction Python qui renvoie la valeur de a inférieure à 100000 pour laquelle le vol est le plus long.\n",
    "Adapter la fonction pour qu’elle renvoie la valeur de a inférieure à N pour laquelle la durée de vol est maximale, où N est passé en argument.__\n",
    "* __Ecrire une fonction Python qui renvoie la valeur de a inférieure à 100000 pour laquelle l’altitude atteinte est maximale.\n",
    "Adapter la fonction pour qu’elle renvoie la valeur de a inférieure à N pour laquelle l’altitude atteinte est maximale, où N est passé en argument.__\n"
   ]
  },
  {
   "cell_type": "code",
   "execution_count": 17,
   "metadata": {},
   "outputs": [],
   "source": [
    "def altitude_150():\n",
    "    \"donne le plus petit a tel que le vol atteint l'altitude 150\"\n",
    "    a=1\n",
    "    while max(Vol_Syracuse(a))<150:\n",
    "        a=a+1\n",
    "    return a\n",
    "    \n",
    "def duree_vol_40():\n",
    "    \"donne le plus petit a tel que le vol a une durée d'au moins 40\"\n",
    "    a=1\n",
    "    while len(Vol_Syracuse(a))<40:\n",
    "        a=a+1\n",
    "    return a    \n",
    "        \n",
    "def altitude(M):\n",
    "    \"donne le plus petit a tel que le vol atteint l'altitude M\"\n",
    "    a=1\n",
    "    while max(Vol_Syracuse(a))<M:\n",
    "        a=a+1\n",
    "    return a\n",
    "    \n",
    "def duree_vol(T):\n",
    "    \"donne le plus petit a tel que le vol a une durée d'au moins T\"\n",
    "    a=1\n",
    "    while len(Vol_Syracuse(a))<T:\n",
    "        a=a+1\n",
    "    return a     \n",
    "\n",
    "def vol_le_plus_long(N):\n",
    "    \"renvoie la valeur de a inférieure à N pour laquelle le vol est le plus long\"\n",
    "    candidat=1\n",
    "    longueur_cand=1\n",
    "    for a in range(2,N):\n",
    "        long_a=len(Vol_Syracuse(a)) #pour ne pas effectuer 2x le calcul\n",
    "        if long_a>longueur_cand:\n",
    "            candidat=a\n",
    "            longueur_cand=long_a\n",
    "    return candidat #on peut compléter avec: ,longueur\n",
    "\n",
    "def vol_le_plus_haut(N):\n",
    "    \"renvoie la valeur de a inférieure à N pour laquelle l'altitude atteinte est maximale\"\n",
    "    candidat=1\n",
    "    altitude=1\n",
    "    for a in range(2,N):\n",
    "        alt_a=max(Vol_Syracuse(a)) #pour ne pas effectuer 2x le calcul\n",
    "        if alt_a>altitude:\n",
    "            candidat=a\n",
    "            altitude=alt_a\n",
    "    return candidat #on peut compléter avec: ,altitude\n",
    "\n"
   ]
  },
  {
   "cell_type": "code",
   "execution_count": 18,
   "metadata": {},
   "outputs": [
    {
     "data": {
      "text/plain": [
       "(15, 27, 77031, 77671)"
      ]
     },
     "execution_count": 18,
     "metadata": {},
     "output_type": "execute_result"
    }
   ],
   "source": [
    "# 8a , 8b , 8c , 8d\n",
    "altitude_150() , duree_vol_40() , vol_le_plus_long(100000) , vol_le_plus_haut(100000)"
   ]
  },
  {
   "cell_type": "markdown",
   "metadata": {},
   "source": [
    "<span style=\"color: #7C39C9\">(*) NOTE: La conjecture de Syracuse stipule que quelle que soit la valeur a choisie, la suite de Syracuse finira par « atterrir », c'est-à-dire qu’elle atteindra au bout d’un nombre fini d’itérations la valeur 1.  A ce jour, cette conjecture n’a jamais été démontrée, mais elle a été vérifiée pour tous les entiers inférieurs à $2^{62}≈4,6×10^{18}$… avec des ordinateurs évidemment.</span>\n",
    "\n",
    "Lothar Collatz (1910 – 1990)\n",
    "est à l’origine de cette conjecture \n",
    "\n",
    "![Collatz Lothar](img/Suites_Syracuse_Collatz.png)\n",
    "\n",
    "\n"
   ]
  },
  {
   "cell_type": "markdown",
   "metadata": {},
   "source": [
    "*(C) Copyright Franck CHEVRIER 2019-2020 http://www.python-lycee.com/*\n"
   ]
  },
  {
   "cell_type": "code",
   "execution_count": null,
   "metadata": {},
   "outputs": [],
   "source": []
  }
 ],
 "metadata": {
  "celltoolbar": "Raw Cell Format",
  "kernelspec": {
   "display_name": "Python 3",
   "language": "python",
   "name": "python3"
  },
  "language_info": {
   "codemirror_mode": {
    "name": "ipython",
    "version": 3
   },
   "file_extension": ".py",
   "mimetype": "text/x-python",
   "name": "python",
   "nbconvert_exporter": "python",
   "pygments_lexer": "ipython3",
   "version": "3.6.4"
  }
 },
 "nbformat": 4,
 "nbformat_minor": 2
}
