{
 "cells": [
  {
   "cell_type": "markdown",
   "metadata": {},
   "source": [
    "![En tête general](img/En_tete_general.png)\n",
    "\n",
    "\n",
    "*(C) Copyright Franck CHEVRIER 2019-2020 http://www.python-lycee.com/*\n",
    "\n",
    "\n"
   ]
  },
  {
   "cell_type": "markdown",
   "metadata": {},
   "source": [
    "# Vidéos interactives\n",
    "### avec éditeur et console Python intégrés"
   ]
  },
  {
   "cell_type": "markdown",
   "metadata": {},
   "source": [
    "\n",
    "\n",
    "<BLOCKQUOTE style='background-color:#F7B55B'>\n",
    "<strong>Pour choisir et activer une vidéo</strong> :\n",
    "<ul>\n",
    "    <li> Sélectionnez la cellule ci-dessous puis validez avec <strong>SHIFT+Entrée</strong> ;</li>\n",
    "    <li> Vous serez ensuite invité à choisir votre vidéo.</li>\n",
    "</ul>\n",
    "</BLOCKQUOTE>\n",
    "<BLOCKQUOTE style='background-color:#F7B55B'>\n",
    "<strong>Pour suivre les instructions données dans la vidéo</strong>, vous disposez de cellules qui peuvent être utilisées :\n",
    "<ul>\n",
    "    <li>comme éditeur de programme Python ;</li>\n",
    "    <li>comme console Python.</li>\n",
    "</ul> \n",
    "</BLOCKQUOTE>   "
   ]
  },
  {
   "cell_type": "markdown",
   "metadata": {},
   "source": [
    "<mark><span style=\"color: #00838F\"><strong>Choix de la vidéo</span></mark></strong> <span style=\"color: #00838F\">(exécuter avec SHIFT+Entrée)</span>"
   ]
  },
  {
   "cell_type": "code",
   "execution_count": null,
   "metadata": {
    "scrolled": false
   },
   "outputs": [],
   "source": [
    "# !!! Exécuter cette cellule pour choisir et démarrer la vidéo !!!\n",
    "from PL_liste_videos import*"
   ]
  },
  {
   "cell_type": "markdown",
   "metadata": {},
   "source": [
    "<mark><span style=\"color: #00838F\"><strong>Editeur</span></mark></strong> <span style=\"color: #00838F\">(exécuter avec SHIFT+Entrée)</span>"
   ]
  },
  {
   "cell_type": "code",
   "execution_count": null,
   "metadata": {},
   "outputs": [],
   "source": [
    "#Utiliser cette zone de saisie comme un éditeur de programme Python\n",
    "\n",
    "\n"
   ]
  },
  {
   "cell_type": "markdown",
   "metadata": {},
   "source": [
    "<mark><span style=\"color: #00838F\"><strong>Console</span></mark></strong> <span style=\"color: #00838F\">(exécuter avec SHIFT+Entrée)</span>"
   ]
  },
  {
   "cell_type": "code",
   "execution_count": null,
   "metadata": {},
   "outputs": [],
   "source": [
    "#Utiliser ces zones de saisies comme une console Python\n"
   ]
  },
  {
   "cell_type": "code",
   "execution_count": null,
   "metadata": {},
   "outputs": [],
   "source": []
  },
  {
   "cell_type": "code",
   "execution_count": null,
   "metadata": {},
   "outputs": [],
   "source": []
  },
  {
   "cell_type": "code",
   "execution_count": null,
   "metadata": {},
   "outputs": [],
   "source": []
  },
  {
   "cell_type": "code",
   "execution_count": null,
   "metadata": {},
   "outputs": [],
   "source": []
  },
  {
   "cell_type": "code",
   "execution_count": null,
   "metadata": {},
   "outputs": [],
   "source": []
  },
  {
   "cell_type": "code",
   "execution_count": null,
   "metadata": {},
   "outputs": [],
   "source": []
  },
  {
   "cell_type": "code",
   "execution_count": null,
   "metadata": {},
   "outputs": [],
   "source": []
  },
  {
   "cell_type": "markdown",
   "metadata": {},
   "source": [
    "Vous pouvez aussi retrouver ces vidéos sur <a href=\"https://www.youtube.com/channel/UCIVCAkYDYvvex-IaRzAFIPQ\">la chaîne YouTube de Python au Lycée</a>."
   ]
  },
  {
   "cell_type": "markdown",
   "metadata": {},
   "source": [
    "*(C) Copyright Franck CHEVRIER 2019-2020 http://www.python-lycee.com/*\n"
   ]
  }
 ],
 "metadata": {
  "celltoolbar": "Raw Cell Format",
  "kernelspec": {
   "display_name": "Python 3",
   "language": "python",
   "name": "python3"
  },
  "language_info": {
   "codemirror_mode": {
    "name": "ipython",
    "version": 3
   },
   "file_extension": ".py",
   "mimetype": "text/x-python",
   "name": "python",
   "nbconvert_exporter": "python",
   "pygments_lexer": "ipython3",
   "version": "3.6.4"
  }
 },
 "nbformat": 4,
 "nbformat_minor": 2
}
