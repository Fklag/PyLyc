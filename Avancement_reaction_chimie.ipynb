{
 "cells": [
  {
   "cell_type": "markdown",
   "metadata": {},
   "source": [
    "![En tête general](img/En_tete_general.png)\n",
    "\n",
    "\n",
    "*(C) Copyright Franck CHEVRIER 2019-2020 http://www.python-lycee.com/*\n",
    "\n",
    "<span style=\"color: #9317B4\"> Pour exécuter une saisie Python, sélectionner la cellule et valider avec </span><span style=\"color: #B317B4\"><strong>SHIFT+Entrée</strong></span>.\n"
   ]
  },
  {
   "cell_type": "markdown",
   "metadata": {},
   "source": [
    "# Avancement d'une réaction chimique"
   ]
  },
  {
   "cell_type": "markdown",
   "metadata": {},
   "source": [
    "\n",
    "\n",
    "Dans cette activité, on s'intéresse à la réaction d'équation:\n",
    "\n",
    "$ \\mathrm{I}_2 + 2\\mathrm{S}_2\\mathrm{O}_3^{2-} \\longrightarrow 2\\mathrm{I}^- + \\mathrm{S}_4\\mathrm{O}_6^{2-}$           \n",
    "<font size=\"1\">(toutes les espèces sont en milieu aqueux)</font>\n",
    "\n",
    "Dans le système chimique étudié, seul le diiode est une espèce colorée (en jaune-orangé).\n",
    "\n",
    "On souhaite déterminer les quantités et concentrations des réactifs et produits à l'état final. \n",
    "\n",
    "\n",
    "L'animation ci-dessous permet de simuler le mélange d'une solution de volume $\\mathrm{V}_1$ et de concentration $\\mathrm{C}_1$ en diiode $\\mathrm{I}_2$, et d'une solution de volume $\\mathrm{V}_2$ et de concentration $\\mathrm{C}_2$ en ions thiosulfate $\\mathrm{S}_2\\mathrm{O}_3^{2-}$.\n",
    "\n",
    "\n",
    "<span style=\"color: #FF0000\">Pour faire apparaître et activer l'animation, sélectionner la cellule ci-dessous et valider avec <strong>SHIFT+Entrée</strong>.</span>\n",
    "\n",
    "\n",
    "<span style=\"color: #BDBFBF\">Vous pouvez ensuite utiliser les menus cinématiques :</span>\n",
    "\n",
    "\n",
    "![Menus_animation](img/menus_animation_GeoGebra.png)\n",
    "\n"
   ]
  },
  {
   "cell_type": "code",
   "execution_count": null,
   "metadata": {},
   "outputs": [],
   "source": [
    "# Sélectionner cette zone puis SHIFT+ENTREE\n",
    "from IPython.display import display, HTML ; display(HTML('fig_dyn_GeoGebra/Avancement_reaction_chimie.html'))"
   ]
  },
  {
   "cell_type": "markdown",
   "metadata": {},
   "source": [
    "Pour les questions __1.__ à __3.__, on supposera que :\n",
    "\n",
    "$\\mathrm{V}_1=150$ $\\mathrm{mL}$\n",
    "\n",
    "$\\mathrm{C}_1=8\\times 10^{-3}$ $\\mathrm{mol}\\cdot\\mathrm{L}^{-1} $\n",
    "\n",
    "$\\mathrm{V}_2=140$ $\\mathrm{mL}$\n",
    "\n",
    "$\\mathrm{C}_2=5\\times 10^{-3}$ $\\mathrm{mol}\\cdot\\mathrm{L}^{-1} $\n",
    "\n",
    "\n",
    "\n",
    "\n",
    "__1. Observer l'animation pour ces valeurs, et répondre qualitativement aux questions suivantes :__\n",
    "\n",
    "<strong>\n",
    "<ul>\n",
    "    <li>Quelle sont les espèces chimiques en présence dans le mélange final ?</li>\n",
    "    <li>Quel semble être le réactif limitant de cette transformation ?</li>\n",
    "</ul>\n",
    "</strong> \n"
   ]
  },
  {
   "cell_type": "markdown",
   "metadata": {},
   "source": [
    "__2. On donne la fonction Python <mark>q</mark> ci-dessous, qui reçoit en argument un volume (en $\\mathrm{mL}$) et une concentration (en $\\mathrm{mol} \\cdot \\mathrm{L}^{-1}$).__ \n",
    "\n",
    "__a. Exécuter les deux cellules suivantes. Que représente la valeur qui a été stockée dans la variable <mark>n1</mark> ? On précisera en particulier son unité.__\n"
   ]
  },
  {
   "cell_type": "code",
   "execution_count": null,
   "metadata": {},
   "outputs": [],
   "source": [
    "def q(Volume,Concentration):\n",
    "    return Volume*Concentration"
   ]
  },
  {
   "cell_type": "code",
   "execution_count": null,
   "metadata": {},
   "outputs": [],
   "source": [
    "V1 = 150 ; C1 = 8*10**-3\n",
    "\n",
    "n1 = q(V1,C1)\n",
    "\n",
    "n1"
   ]
  },
  {
   "cell_type": "markdown",
   "metadata": {},
   "source": [
    "__b. Effectuer les saisies Python permettant de stocker dans une variable <mark>n2</mark> la quantité d'ions $\\mathrm{S}_2\\mathrm{O}_3^{2-}$ du Bécher 2, exprimée en $\\mathrm{mmol}$. Afficher cette valeur.__"
   ]
  },
  {
   "cell_type": "code",
   "execution_count": null,
   "metadata": {},
   "outputs": [],
   "source": [
    "# Effectuer les saisies pour créer n2\n"
   ]
  },
  {
   "cell_type": "markdown",
   "metadata": {},
   "source": [
    "__3. On considère la fonction Python <mark>Avancement</mark> ci-dessous.__"
   ]
  },
  {
   "cell_type": "code",
   "execution_count": null,
   "metadata": {},
   "outputs": [],
   "source": [
    "def Avancement(n1,n2):\n",
    "    \n",
    "    n3 = 0\n",
    "    n4 = 0\n",
    "    \n",
    "    while n1>0 and n2>0:\n",
    "        n1 = n1 - 0.01 \n",
    "        n2 = n2 - 0.02\n",
    "        n3 = n3 + 0.02\n",
    "        n4 = n4 + 0.01\n",
    "        \n",
    "    return n1,n2,n3,n4    \n",
    "        "
   ]
  },
  {
   "cell_type": "markdown",
   "metadata": {},
   "source": [
    "__a. On suppose que <mark>n1</mark> et <mark>n2</mark> valent initialement respectivement 1.2 et 0.7 au déclenchement de la boucle while. Recopier et compléter le tableau suivant, pour prévoir les premières valeurs prises par les variables <mark>n1</mark>, <mark>n2</mark>, <mark>n3</mark> et <mark>n4</mark> (remplir uniquement 4 lignes).__ \n",
    "\n",
    "\n",
    "| n1>0 and n2>0 ?      | $ \\;\\; $n1 $ \\;\\; $ | $ \\;\\; $n2 $ \\;\\; $ | $ \\;\\; $n3 $ \\;\\; $ | $ \\;\\; $n4 $ \\;\\; $ |\n",
    "| :------------------- | ------------------: | ------------------: | ------------------: | ------------------: |\n",
    "| $ \\;\\; $ /// $ \\;\\; $| $ \\;\\; $1.2$ \\;\\; $ | $ \\;\\; $0.7$ \\;\\; $ | $ \\;\\; $ 0 $ \\;\\; $ | $ \\;\\; $ 0 $ \\;\\; $ |    \n",
    "| $ \\;\\; $ True$ \\;\\; $| $ \\;\\; $... $ \\;\\; $ | $ \\;\\; $... $ \\;\\; $ | $ \\;\\; $... $ \\;\\; $ | $ \\;\\; $... $ \\;\\; $ |\n",
    "| $ \\;\\; $ ... $ \\;\\; $| $ \\;\\; $... $ \\;\\; $ | $ \\;\\; $... $ \\;\\; $ | $ \\;\\; $... $ \\;\\; $ | $ \\;\\; $... $ \\;\\; $ |\n",
    "| $ \\;\\; $ ... $ \\;\\; $| $ \\;\\; $... $ \\;\\; $ | $ \\;\\; $... $ \\;\\; $ | $ \\;\\; $... $ \\;\\; $ | $ \\;\\; $... $ \\;\\; $ | "
   ]
  },
  {
   "cell_type": "markdown",
   "metadata": {},
   "source": [
    "__b. A l'aide du tableau complété précédemment, prévoir les valeurs finales des variables <mark>n1</mark>, <mark>n2</mark>, <mark>n3</mark> et <mark>n4</mark>, en justifiant brièvement.__ \n"
   ]
  },
  {
   "cell_type": "markdown",
   "metadata": {},
   "source": [
    "__c. Exécuter l'appel à la fonction <mark>Avancement</mark> ci-dessous. Vérifier la cohérence avec votre réponse à la question 3.b.__\n",
    "\n",
    "NB: On arrondira les valeurs renvoyées par la fonction Python."
   ]
  },
  {
   "cell_type": "code",
   "execution_count": null,
   "metadata": {},
   "outputs": [],
   "source": [
    "# Exécuter l'appel à la fonction\n",
    "Avancement(n1,n2)\n"
   ]
  },
  {
   "cell_type": "markdown",
   "metadata": {},
   "source": [
    "__d. Donner une interprétation concrète des valeurs renvoyées par la fonction <mark>Avancement</mark> de la question 3.c., dans le cadre de l'énoncé: Préciser ce que représentent ces valeurs et vérifier la cohérence avec vos réponses à la question 1.__\n"
   ]
  },
  {
   "cell_type": "markdown",
   "metadata": {},
   "source": [
    "__e. Calculer les concentrations des réactifs et des produits à l'état final. On pourra utiliser des saisies Python pour les calculs.__\n"
   ]
  },
  {
   "cell_type": "code",
   "execution_count": null,
   "metadata": {},
   "outputs": [],
   "source": [
    "# Effectuer dans cette cellule et les suivantes les saisies nécessaires\n"
   ]
  },
  {
   "cell_type": "code",
   "execution_count": null,
   "metadata": {},
   "outputs": [],
   "source": []
  },
  {
   "cell_type": "code",
   "execution_count": null,
   "metadata": {},
   "outputs": [],
   "source": []
  },
  {
   "cell_type": "code",
   "execution_count": null,
   "metadata": {},
   "outputs": [],
   "source": []
  },
  {
   "cell_type": "markdown",
   "metadata": {},
   "source": [
    "__4. Dans cette question, on reprend le protocole précédent avec:__\n",
    "\n",
    "$\\mathrm{V}_1=80$ $\\mathrm{mL}$\n",
    "\n",
    "$\\mathrm{C}_1=4\\times 10^{-3}$ $\\mathrm{mol}\\cdot\\mathrm{L}^{-1} $\n",
    "\n",
    "$\\mathrm{V}_2=130$ $\\mathrm{mL}$\n",
    "\n",
    "$\\mathrm{C}_2=8\\times 10^{-3}$ $\\mathrm{mol}\\cdot\\mathrm{L}^{-1} $\n",
    "\n",
    "__a. Effectuer une observation à l'aide de l'animation : Quel semble être le réactif limitant de cette transformation ?__\n",
    "\n",
    "__b. A l'aide de saisies Python, déterminer les concentrations des réactifs et produits à l'état final.__\n"
   ]
  },
  {
   "cell_type": "code",
   "execution_count": null,
   "metadata": {},
   "outputs": [],
   "source": [
    "#Effectuer dans cette cellule et les suivantes les saisies nécessaires\n"
   ]
  },
  {
   "cell_type": "code",
   "execution_count": null,
   "metadata": {},
   "outputs": [],
   "source": []
  },
  {
   "cell_type": "code",
   "execution_count": null,
   "metadata": {},
   "outputs": [],
   "source": []
  },
  {
   "cell_type": "code",
   "execution_count": null,
   "metadata": {},
   "outputs": [],
   "source": []
  },
  {
   "cell_type": "code",
   "execution_count": null,
   "metadata": {},
   "outputs": [],
   "source": []
  },
  {
   "cell_type": "code",
   "execution_count": null,
   "metadata": {},
   "outputs": [],
   "source": []
  },
  {
   "cell_type": "markdown",
   "metadata": {},
   "source": [
    "*(C) Copyright Franck CHEVRIER 2019-2020 http://www.python-lycee.com/*\n"
   ]
  }
 ],
 "metadata": {
  "celltoolbar": "Raw Cell Format",
  "kernelspec": {
   "display_name": "Python 3",
   "language": "python",
   "name": "python3"
  },
  "language_info": {
   "codemirror_mode": {
    "name": "ipython",
    "version": 3
   },
   "file_extension": ".py",
   "mimetype": "text/x-python",
   "name": "python",
   "nbconvert_exporter": "python",
   "pygments_lexer": "ipython3",
   "version": "3.6.4"
  }
 },
 "nbformat": 4,
 "nbformat_minor": 2
}
