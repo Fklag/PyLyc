{
 "cells": [
  {
   "cell_type": "markdown",
   "metadata": {},
   "source": [
    "![En tête general](img/En_tete_general.png)\n",
    "\n",
    "\n",
    "*(C) Copyright Franck CHEVRIER 2019-2020 http://www.python-lycee.com/*\n",
    "\n",
    "<span style=\"color: #9317B4\"> Pour exécuter une saisie Python, sélectionner la cellule et valider avec </span><span style=\"color: #B317B4\"><strong>SHIFT+Entrée</strong></span>.\n"
   ]
  },
  {
   "cell_type": "markdown",
   "metadata": {},
   "source": [
    "![Base_Ball](img/BaseBall_titre.png)"
   ]
  },
  {
   "cell_type": "markdown",
   "metadata": {},
   "source": [
    "Dans cette activité, on observe la trajectoire d'une balle lancée par un joueur de Baseball à l'aide d'un appareil photographique à déclenchement en rafale, qui permet d'obtenir des images de la scène à intervalle de temps constant.\n",
    "\n",
    "L'animation ci-dessous permet d'obtenir de cette façon une <a href=\"https://fr.wikipedia.org/wiki/Chronophotographie\">chronophotographie</a> de ce lancer. Les distances et les temps sont respectivement exprimés en mètre et en seconde.\n",
    "\n",
    "\n",
    "<span style=\"color: #FF0000\">Pour faire apparaître et activer l'animation, sélectionner la cellule ci-dessous et valider avec <strong>SHIFT+Entrée</strong>.</span>\n",
    "\n",
    "\n",
    "<span style=\"color: #BDBFBF\">Vous pouvez ensuite utiliser les menus cinématiques :</span>\n",
    "\n",
    "\n",
    "![Menus_animation](img/menus_animation_GeoGebra.png)\n",
    "\n"
   ]
  },
  {
   "cell_type": "code",
   "execution_count": null,
   "metadata": {},
   "outputs": [],
   "source": [
    "#Sélectionner cette zone puis SHIFT+ENTREE\n",
    "from IPython.display import display, HTML ; display(HTML('fig_dyn_GeoGebra/Base_Ball.html'))"
   ]
  },
  {
   "cell_type": "markdown",
   "metadata": {},
   "source": [
    "__1. Compléter les saisies ci dessous pour stocker les abscisses et les ordonnées obtenues par ce pointage dans les listes Python nommées <mark>x</mark> et <mark>y</mark>. Vérifier que la valeur <mark>Dt</mark> correspond bien à l'intervalle de temps $\\Delta t$ paramétré dans votre pointage.__\n",
    "\n",
    "<span style=\"color: #A9AAAA\">Ne pas oublier de valider cette zone de saisie Python et les suivantes avec <strong>SHIFT+Entrée</strong>.</span>\n"
   ]
  },
  {
   "cell_type": "code",
   "execution_count": null,
   "metadata": {},
   "outputs": [],
   "source": [
    "#liste des abscisses des points (à compléter)\n",
    "x = [0]\n",
    "\n",
    "#liste des ordonnées des points (à compléter)\n",
    "y = [1.6]\n",
    "\n",
    "#intervalle de temps entre deux prises de vue\n",
    "Dt = 0.2 \n"
   ]
  },
  {
   "cell_type": "markdown",
   "metadata": {},
   "source": [
    "__2. Pour chaque point $M_i(x_i;y_i)$, on fait l'estimation que les coordonnées du vecteur vitesse $\\vec{v_i}$ vérifient :__\n",
    "  \n",
    "  \n",
    "<font size=\"4\"> $(v_i)_x = \\frac{x_{i+1}-x_i}{Δt}$ </font>  <strong>et</strong>\n",
    " \n",
    "<font size=\"4\"> $(v_i)_y = \\frac{y_{i+1}-y_i}{Δt}$ </font>.\n",
    "\n",
    "__On a défini ci-dessous la liste <mark>vx</mark> des abscisses de ces vecteurs. Définir de la même façon la liste <mark>vy</mark> de leurs ordonnées.__"
   ]
  },
  {
   "cell_type": "code",
   "execution_count": null,
   "metadata": {},
   "outputs": [],
   "source": [
    "# liste des abscisses des vecteurs vitesse\n",
    "vx = [ (x[i+1]-x[i])/Dt for i in range(len(x)-1) ]\n",
    "\n",
    "# liste des ordonnées des vecteurs vitesse (à créer)\n",
    "\n"
   ]
  },
  {
   "cell_type": "markdown",
   "metadata": {},
   "source": [
    "__3. En chaque point $M_{i+1}$, on définit le vecteur variation de vitesse $\\Delta \\vec{v} _{i \\rightarrow i+1}$ dont les coordonnées vérifient:__\n",
    "  \n",
    "  \n",
    "<font size=\"4\"> $( \\Delta \\vec{v} _{i \\rightarrow i+1} )_x = (v_{i+1})_x-(v_i)_x$ </font>   <strong>et</strong>\n",
    " \n",
    "<font size=\"4\"> $( \\Delta \\vec{v} _{i \\rightarrow i+1} )_y = (v_{i+1})_y-(v_i)_y$ </font>.\n",
    "\n",
    "__On a défini ci-dessous la liste <mark>Dvx</mark> des abscisses de ces vecteurs. Définir de la même façon la liste <mark>Dvy</mark> de leurs ordonnées.__"
   ]
  },
  {
   "cell_type": "code",
   "execution_count": null,
   "metadata": {},
   "outputs": [],
   "source": [
    "# liste des abscisses des vecteurs vitesse\n",
    "Dvx = [ vx[i+1]-vx[i] for i in range(len(vx)-1) ]\n",
    "\n",
    "# liste des ordonnées des vecteurs vitesse (à créer)\n",
    "\n"
   ]
  },
  {
   "cell_type": "markdown",
   "metadata": {},
   "source": [
    "__4. La fonction Python <mark>Pointage</mark> ci-dessous permet d'obtenir le tracé des vecteurs vitesses et des vecteurs variation de vitesse pour le pointage. Exécuter cette cellule et la suivante pour observer le graphique.__"
   ]
  },
  {
   "cell_type": "code",
   "execution_count": null,
   "metadata": {},
   "outputs": [],
   "source": [
    "import matplotlib.pyplot as plt\n",
    "\n",
    "def Pointage(coeff_reduc=1):\n",
    "    \n",
    "    # réglage des axes\n",
    "    plt.figure(num=0, figsize=(12,8), dpi=80) ; fig,ax = plt.subplots(num=0)  \n",
    "    ax.set_xlim(( 0,max(x)+5)) ; ax.set_ylim((0,max(y)+5)) ;\n",
    "        \n",
    "    # représentation des points\n",
    "    plt.scatter(x,y,color='red') \n",
    "    \n",
    "    # représentation des vecteurs vitesse\n",
    "    for i in range(len(vx)):\n",
    "        plt.arrow( x[i] , y[i] , vx[i]*coeff_reduc , vy[i]*coeff_reduc , head_width=0.2, head_length=0.2, fc='lightblue', ec='blue')\n",
    "        \n",
    "    # représentation des vecteurs variation de vitesse     \n",
    "    for i in range(len(Dvx)):\n",
    "        plt.arrow( x[i+1] , y[i+1] , Dvx[i]*coeff_reduc , Dvy[i]*coeff_reduc , head_width=0.2, head_length=0.2, fc='coral', ec='orangered')\n",
    "    \n",
    "    # affichage\n",
    "    plt.show()\n",
    "    "
   ]
  },
  {
   "cell_type": "code",
   "execution_count": null,
   "metadata": {},
   "outputs": [],
   "source": [
    "Pointage()"
   ]
  },
  {
   "cell_type": "markdown",
   "metadata": {},
   "source": [
    "__5. a. A l'aide du graphique obtenu et des résultats des deux saisies Python suivantes, justifier que le vecteur variation de vitesse peut être considéré comme constant, et en préciser une valeur approchée.__"
   ]
  },
  {
   "cell_type": "code",
   "execution_count": null,
   "metadata": {},
   "outputs": [],
   "source": [
    "#Exécuter cette cellule\n",
    "Dvx"
   ]
  },
  {
   "cell_type": "code",
   "execution_count": null,
   "metadata": {},
   "outputs": [],
   "source": [
    "#Exécuter cette cellule\n",
    "Dvy"
   ]
  },
  {
   "cell_type": "markdown",
   "metadata": {},
   "source": [
    "__5. b. On admet que la balle de Baseball a une masse de 145g. Déterminer le poids exercé sur cette balle. On prendra $g=10$ $N \\cdot kg^{-1}$ pour l'intensité de la pesanteur.__"
   ]
  },
  {
   "cell_type": "markdown",
   "metadata": {},
   "source": [
    "__5.c A l'aide de l'égalité $\\sum{ \\vec{F}}=m\\frac{Δ\\vec{v}}{Δt}$, justifier qu'on peut considérer que seule la force du vecteur poids s'applique sur la balle. Peut-on considérer la balle comme étant en chute libre ?__"
   ]
  },
  {
   "cell_type": "markdown",
   "metadata": {},
   "source": [
    "__6. Reprendre les questions précédentes pour un autre pointage, obtenu avec d'autres valeurs pour les paramètres $h_0$ (hauteur initiale), $v_0$ (vitesse initiale) et $\\alpha$ (angle du lancer par rapport à l'horizontale).__"
   ]
  },
  {
   "cell_type": "markdown",
   "metadata": {},
   "source": [
    "*(C) Copyright Franck CHEVRIER 2019-2020 http://www.python-lycee.com/*\n"
   ]
  }
 ],
 "metadata": {
  "celltoolbar": "Raw Cell Format",
  "kernelspec": {
   "display_name": "Python 3",
   "language": "python",
   "name": "python3"
  },
  "language_info": {
   "codemirror_mode": {
    "name": "ipython",
    "version": 3
   },
   "file_extension": ".py",
   "mimetype": "text/x-python",
   "name": "python",
   "nbconvert_exporter": "python",
   "pygments_lexer": "ipython3",
   "version": "3.6.4"
  }
 },
 "nbformat": 4,
 "nbformat_minor": 2
}
