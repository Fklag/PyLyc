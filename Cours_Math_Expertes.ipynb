{
 "cells": [
  {
   "cell_type": "markdown",
   "metadata": {},
   "source": [
    "<h1 style=\"font-size: 32px;\"> COURS  DE TERMINALE - MATHEMATIQUES EXPERTES </h1>\n",
    "#### © <a href=\"https://www.python-lycee.com/\">www.python-lycee.com</a> Franck CHEVRIER 2020/2021\n"
   ]
  },
  {
   "cell_type": "markdown",
   "metadata": {},
   "source": [
    "Programme officiel : <a href=\"https://www.python-lycee.com/tale-math-expertes\">Programme Tale Math Expertes</a>\n",
    "\n",
    "<span style='color:#A00D91'>Liens vers les exercices et démonstrations du manuel : <a href=\"https://www.enseignants.hachette-education.com/livres/barbazo-mathematiques-expertes-terminales-livre-eleve-ed-2020-9782017866213\">Collection Barbazo - Option Mathématiques Expertes - Programme 2020</a>.</span>"
   ]
  },
  {
   "cell_type": "markdown",
   "metadata": {},
   "source": [
    "Sommaire\n",
    "\n",
    "<ol>\n",
    "    <li>a</li>\n",
    "    <li>d</li>\n",
    "    <li>f</li>\n",
    "    <li>g</li>\n",
    "    <li>s</li>\n",
    "    <li>e</li>\n",
    "</ol>\n"
   ]
  },
  {
   "cell_type": "markdown",
   "metadata": {},
   "source": [
    "<h2 id=\"Arithmetique\" style=\"font-size: 28px;\">1. Arithmétique</h2>"
   ]
  },
  {
   "cell_type": "markdown",
   "metadata": {},
   "source": [
    "<h3 id=\"Arithmetique\" style=\"font-size: 24px;\">1.1. Division euclidienne et divisibilité </h3>\n"
   ]
  },
  {
   "cell_type": "markdown",
   "metadata": {},
   "source": [
    "<strong>Notations :</strong><br>\n",
    "<ul>\n",
    "    <li>On note $\\mathbb{N}$ l'ensemble des nombres entiers naturels. $\\mathbb{N}=\\left\\{0;1;2;...\\right\\}$.</li>\n",
    "    <li>On note $\\mathbb{N}^*$ l'ensemble des nombres entiers naturels non nuls.</li> \n",
    "    <li>On note $\\mathbb{Z}$ l'ensemble des nombres entiers relatifs. $\\mathbb{Z}=\\left\\{...;-2;-1;0;1;2;...\\right\\}$</li>\n",
    "    <li>On note $\\mathbb{Z}^*$ l'ensemble des nombres entiers relatifs non nuls.</li>\n",
    "</ul>"
   ]
  },
  {
   "cell_type": "markdown",
   "metadata": {},
   "source": [
    "<BLOCKQUOTE style='background-color:#CFB5B6;'>\n",
    "<strong>Théorème :</strong> <span style=\"color:#BB0000\">Division euclidienne d'un entier naturel par un entier naturel non nul.</span><br><br>\n",
    "Pour tout $a \\in \\mathbb{N}$ et $b \\in \\mathbb{N}^*$,<br>\n",
    "il existe un unique couple $(q;r)$ avec $q \\in \\mathbb{N}$ et $r \\in \\mathbb{N}$ tels que :\n",
    "$\\begin{Bmatrix} a=bq+r \\\\ 0 \\leq r < b  \\end{Bmatrix}$.<br>\n",
    "</BLOCKQUOTE>\n",
    "<br>\n",
    "<strong>Remarque :</strong><br>\n",
    "Avec les notations mathématiques des <a href=\"https://fr.wikipedia.org/wiki/Quantificateur_(logique)\">quantificateurs</a>, ce théorème peut s'écrire:<br>\n",
    "$\\forall (a;b) \\in \\mathbb{N} \\times \\mathbb{N}^* \\;\\; ; \\;\\; \\exists! (q;r) \\in \\mathbb{N}^{*2} \\;\\; / \\;\\; \\begin{Bmatrix} a=bq+r \\\\ 0 \\leq r < b  \\end{Bmatrix}$\n",
    "<br>\n",
    "<strong>Vocabulaire :</strong><br>\n",
    "$a,b,q,r$ sont respectivement le dividende, le diviseur, le quotient et le reste de la division euclidienne de $a$ par $b$.\n",
    "<br><br>\n",
    "<strong>Illustration graphique :</strong>"
   ]
  },
  {
   "cell_type": "code",
   "execution_count": null,
   "metadata": {},
   "outputs": [],
   "source": [
    "# Activer cette cellule (SHIFT+Entrée) pour faire apparaître la figure dynamique\n",
    "from IPython.display import display, HTML ; display(HTML('fig_dyn_GeoGebra/div_eucl_nat.html'))\n"
   ]
  },
  {
   "cell_type": "markdown",
   "metadata": {},
   "source": [
    "<BLOCKQUOTE style='background-color:#CFB5B6;'>\n",
    "<strong>Théorème :</strong> <span style=\"color:#BB0000\">Division euclidienne d'un entier relatif par un entier naturel non nul.</span><br><br>\n",
    "Pour tout $a \\in \\mathbb{Z}$ et $b \\in \\mathbb{N}^*$,<br>\n",
    "il existe un unique couple $(q;r)$ avec $q \\in \\mathbb{Z}$ et $r \\in \\mathbb{N}$ tels que :\n",
    "$\\begin{Bmatrix} a=bq+r \\\\ 0 \\leq r < \\lvert b \\rvert \\end{Bmatrix}$.\n",
    "</BLOCKQUOTE>\n",
    "\n",
    "<p style='text-align:right'><span style='color:#A00D91'>Démonstration p122 du manuel</span></p>\n",
    "\n",
    "On peut encore généraliser ce théorème:\n",
    "\n",
    "<BLOCKQUOTE style='background-color:#CFB5B6;'>\n",
    "<strong>Théorème :</strong> <span style=\"color:#BB0000\">Division euclidienne d'un entier relatif par un entier relatif non nul.</span><br><br>\n",
    "Pour tout $a \\in \\mathbb{Z}$ et $b \\in \\mathbb{Z}^*$,<br>\n",
    "il existe un unique couple $(q;r)$ avec $q \\in \\mathbb{Z}$ et $r \\in \\mathbb{N}$ tels que :\n",
    "$\\begin{Bmatrix} a=bq+r \\\\ 0 \\leq r < \\lvert b \\rvert \\end{Bmatrix}$.\n",
    "</BLOCKQUOTE>\n",
    "\n",
    "\n",
    "\n",
    "\n",
    "\n",
    "\n",
    "<strong>Remarque :</strong><br>\n",
    "Ces théorème peuvent respectivement s'écrire :<br>\n",
    "$\\forall (a;b) \\in \\mathbb{Z} \\times \\mathbb{N}^* \\;\\; ; \\;\\; \\exists! (q;r) \\in \\mathbb{Z} \\times \\mathbb{N} \\;\\; / \\;\\; \\begin{Bmatrix} a=bq+r \\\\ 0 \\leq r < \\lvert b \\rvert \\end{Bmatrix}$<br><br>\n",
    "$\\forall (a;b) \\in \\mathbb{Z} \\times \\mathbb{Z}^* \\;\\; ; \\;\\; \\exists! (q;r) \\in \\mathbb{Z} \\times \\mathbb{N} \\;\\; / \\;\\; \\begin{Bmatrix} a=bq+r \\\\ 0 \\leq r < \\lvert b \\rvert \\end{Bmatrix}$\n",
    "\n"
   ]
  },
  {
   "cell_type": "markdown",
   "metadata": {},
   "source": [
    "<strong>Syntaxe Python :</strong>"
   ]
  },
  {
   "cell_type": "code",
   "execution_count": 10,
   "metadata": {},
   "outputs": [
    {
     "data": {
      "text/plain": [
       "(-4, 3)"
      ]
     },
     "execution_count": 10,
     "metadata": {},
     "output_type": "execute_result"
    }
   ],
   "source": [
    "a = -25\n",
    "b = 7\n",
    "\n",
    "q = a//b # Syntaxe de calcul du quotient de la division euclidienne de a par b\n",
    "r = a%b  # Syntaxe de calcul du reste de la division euclidienne de a par b\n",
    "\n",
    "q,r"
   ]
  },
  {
   "cell_type": "markdown",
   "metadata": {},
   "source": [
    "<strong>Exercices :</strong><br>\n",
    "<ul>\n",
    "    <li><span style='color:#A00D91'>Dans le manuel : n°19,21,24 p126,127</span></li>\n",
    "    <li>Écrire une fonction Python <mark>div_euclidienne</mark> qui reçoit <mark>a</mark> et <mark>b</mark> en arguments et qui renvoie <mark>q,r</mark> où q et r sont le quotient et le reste de la division euclidienne de <mark>a</mark> par <mark>b</mark>. Utiliser cette fonction pour effectuer des vérifications des résultats des autres exercices."
   ]
  },
  {
   "cell_type": "code",
   "execution_count": 8,
   "metadata": {},
   "outputs": [
    {
     "data": {
      "text/plain": [
       "3"
      ]
     },
     "execution_count": 8,
     "metadata": {},
     "output_type": "execute_result"
    }
   ],
   "source": [
    "# Écrire ici la fonction div_euclidienne\n"
   ]
  },
  {
   "cell_type": "code",
   "execution_count": null,
   "metadata": {},
   "outputs": [],
   "source": [
    "# Tester ici la fonction div_euclidienne\n"
   ]
  },
  {
   "cell_type": "markdown",
   "metadata": {},
   "source": [
    "<BLOCKQUOTE style='background-color:#ACF5DA;'>\n",
    "<strong>Définition :</strong> <span style=\"color:#0F8257\">Divisibilité dans $\\mathbb{Z}$.</span><br><br>\n",
    "Soit $a \\in \\mathbb{Z}$ et $b \\in \\mathbb{Z}^*$.<br>\n",
    "On dit que $b$ divise $a$ si et seulement si le reste de la division euclidienne de $a$ par $b$ est nul.\n",
    "</BLOCKQUOTE>\n",
    "\n",
    "<strong>Remarque :</strong><br>\n",
    "<ul>\n",
    "    <li> Il en résulte que $b$ divise $a$ si et seulement s'il existe $q \\in \\mathbb{Z}$ tel que $a=bq$.</li>\n",
    "    <li> Dans ce cas, on dit aussi que:\n",
    "        <ul>\n",
    "            <li>$b$ est un diviseur de $a$</li>\n",
    "            <li>$a$ est divisible par $b$</li>\n",
    "            <li>$a$ est un multiple de $b$</li>\n",
    "        </ul>\n",
    "    </li>\n",
    "</ul>\n"
   ]
  },
  {
   "cell_type": "markdown",
   "metadata": {},
   "source": [
    "<strong>Exercices :</strong>\n",
    "<ul>\n",
    "    <li><span style='color:#A00D91'>Dans le manuel : n°3,5,8,11,12</span></li>\n",
    "    <li>Écrire une fonction Python <mark>divisible</mark> qui reçoit <mark>a</mark> et <mark>b</mark> en arguments et qui renvoie <mark>True</mark> si <mark>a</mark> est divisible par <mark>b</mark> et <mark>False</mark> sinon.\n",
    "    <li>Écrire une fonction Python <mark>diviseurs</mark> qui reçoit <mark>a</mark> en argument et qui renvoie la liste des diviseurs de <mark>a</mark>. <br>On pourra parcourir la liste des nombres candidats à l'aide d'une boucle.</li>"
   ]
  },
  {
   "cell_type": "code",
   "execution_count": null,
   "metadata": {},
   "outputs": [],
   "source": [
    "# Écrire ici la fonction divisible\n"
   ]
  },
  {
   "cell_type": "code",
   "execution_count": null,
   "metadata": {},
   "outputs": [],
   "source": [
    "# Tester ici la fonction divisible\n"
   ]
  },
  {
   "cell_type": "code",
   "execution_count": null,
   "metadata": {},
   "outputs": [],
   "source": [
    "# Écrire ici la fonction diviseurs\n"
   ]
  },
  {
   "cell_type": "code",
   "execution_count": null,
   "metadata": {},
   "outputs": [],
   "source": [
    "# Tester ici la fonction diviseurs\n"
   ]
  },
  {
   "cell_type": "markdown",
   "metadata": {},
   "source": [
    "<strong>Notation :</strong><br>\n",
    "Pour tout $a \\in \\mathbb{Z}$, on note $D(a)$ l'ensemble des diviseurs de $a$.<br>\n",
    "Ainsi $b \\in D(a)$ se lit \" $b$ divise $a$ \"."
   ]
  },
  {
   "cell_type": "markdown",
   "metadata": {},
   "source": [
    "<BLOCKQUOTE style='background-color:#F9C47B;'>\n",
    "<strong>Propriétés :</strong> <span style=\"color:#AE6602\">Ensemble des diviseurs d'un entier.</span><br><br>\n",
    "Soit $a \\in \\mathbb{Z}$ ; $b \\in \\mathbb{Z}$ et $c \\in \\mathbb{Z}$.\n",
    "<ol>\n",
    "    <li> $\\;\\;$ Les éléments de $D(a)$ sont compris entre $-a$ et $a$, et par conséquent $D(a)$ est un ensemble fini.</li>\n",
    "    <li> $\\;\\;$ $b \\in D(a) \\Longleftrightarrow -b \\in D(a) \\Longleftrightarrow b \\in D(-a) \\Longleftrightarrow -b \\in D(-a)$</li>\n",
    "    <li> $\\;\\;$ Si $a \\in D(b)$ et $b \\in D(c)$ alors $a \\in D(c)$.</li>\n",
    "    <li> $\\;\\;$ Si $a \\in D(b)$ et $a \\in D(c)$ alors $a \\in D(bu+cv)$ pour tout couple $(u;v) \\in \\mathbb{Z}^2$.<br>$\\;\\;$NB : Un nombre de la forme $bu+cv$ s'appelle une <strong>combinaison linéaire</strong> de $b$ et $c$.</li>\n",
    "</ol>"
   ]
  },
  {
   "cell_type": "markdown",
   "metadata": {},
   "source": [
    "<strong>Exemples :</strong><br><br>\n",
    "$D(10)=\\left\\{-10;-5;-2;-1;1;2;5;10\\right\\}$\n",
    "<ol>\n",
    "    <li> $\\;\\;$ $D(10)=\\left\\{-10;-5;-2;-1;1;2;5;10\\right\\}$<br>$\\;\\;$Les éléments de $D(10)$ sont bien compris entre $-10$ et $10$, et $D(10)$ est donc fini.</li>\n",
    "    <li> $\\;\\;$On a par exemple $\\; 2 \\in D(10) \\;$ ; $\\;-2 \\in D(10) \\;$ ; $\\;2 \\in D(-10) \\;$ ; $\\;-2 \\in D(-10) \\;$.\n",
    "    <li> $\\;\\;$ $5$ divise $10$ et $10$ divise $30$, donc $5$ divise $30$.\n",
    "    <li> $\\;\\;$ $3$ divise $12$ et $3$ divise $15$ donc $3$ divise tout nombre de la forme $12u+15v$ où $(u;v) \\in \\mathbb{Z}^2$.</li>  \n",
    "</ol>\n",
    "\n",
    "<strong>Remarque :</strong><br>\n",
    "La propriété 2. justifie qu'on restreint souvent la recherche des diviseurs d'un nombre à la recherche de ses diviseurs positifs, puisque les autres s'en déduisent immédiatement par changement de signe."
   ]
  },
  {
   "cell_type": "markdown",
   "metadata": {},
   "source": [
    "<h3 id=\"Arithmetique\" style=\"font-size: 24px;\">1.2. Congruences dans $\\mathbb{Z}$ </h3>\n"
   ]
  },
  {
   "cell_type": "code",
   "execution_count": null,
   "metadata": {},
   "outputs": [],
   "source": []
  }
 ],
 "metadata": {
  "kernelspec": {
   "display_name": "Python 3",
   "language": "python",
   "name": "python3"
  },
  "language_info": {
   "codemirror_mode": {
    "name": "ipython",
    "version": 3
   },
   "file_extension": ".py",
   "mimetype": "text/x-python",
   "name": "python",
   "nbconvert_exporter": "python",
   "pygments_lexer": "ipython3",
   "version": "3.6.4"
  }
 },
 "nbformat": 4,
 "nbformat_minor": 2
}
