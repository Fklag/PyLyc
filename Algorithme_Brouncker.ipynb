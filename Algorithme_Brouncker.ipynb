{
 "cells": [
  {
   "cell_type": "markdown",
   "metadata": {},
   "source": [
    "![En tête general](img/En_tete_general.png)\n",
    "\n",
    "\n",
    "*(C) Copyright Franck CHEVRIER 2019-2020 http://www.python-lycee.com/*\n",
    "\n",
    "<span style=\"color: #9317B4\"> Pour exécuter une saisie Python, sélectionner la cellule et valider avec </span><span style=\"color: #B317B4\"><strong>SHIFT+Entrée</strong></span>.\n"
   ]
  },
  {
   "cell_type": "markdown",
   "metadata": {},
   "source": [
    "# <span style=\"color:#6C3483\">Algorithme de Brouncker pour le calcul de ln(2)</span>"
   ]
  },
  {
   "cell_type": "markdown",
   "metadata": {},
   "source": [
    "### <span style=\"color:#8E44AD\">Sommaire</span>\n",
    "\n",
    "\n",
    "<span style=\"color:#8E44AD\">1.</span> <a href=\"#1\">Construction géométrique</a><br>\n",
    "<span style=\"color:#8E44AD\">2.</span> <a href=\"#2\">Implémentation de l'algorithme de Brouncker</a><br>\n",
    "\n"
   ]
  },
  {
   "cell_type": "markdown",
   "metadata": {},
   "source": [
    "<span style=\"color: #7C39C9\">*Le but de l'activité est d'obtenir une valeur approchée de $ln(2)$ à l'aide de l'<strong>algorithme de Brouncker</strong>, qui est basé sur une méthode géométrique.*</span>"
   ]
  },
  {
   "cell_type": "markdown",
   "metadata": {},
   "source": [
    "## <span style=\"color:#8E44AD\" id=\"1\">1. Construction géométrique</span>"
   ]
  },
  {
   "cell_type": "markdown",
   "metadata": {},
   "source": [
    "On considère la fonction $h$ définie sur $\\mathbb{R}^*  $ par $h(x)=\\frac{1}{x}$.\n",
    "<br><br>\n",
    "__1.1. Démontrer que $ln(2)$ est l'aire de la zone délimitée par l'axe des abscisses, la courbe de la fonction $h$ et les droites d'équations $x=1$ et $x=2$. On cherche donc à donner une estimation de cette aire.__\n",
    "<br><br>\n",
    "\n",
    "\n",
    "<em>La figure dynamique suivante permet de visualiser la construction géométrique mise en œuvre.</em>\n",
    "<br><br>\n",
    "<span style=\"color: #FF0000\">Pour faire apparaître et activer l'animation, sélectionner la cellule ci-dessous et valider avec <strong>SHIFT+Entrée</strong>.</span>\n",
    "\n",
    "\n",
    "<span style=\"color: #BDBFBF\">Vous pouvez ensuite utiliser les menus cinématiques :</span>\n",
    "\n",
    "\n",
    "![Menus_animation](img/menus_animation_GeoGebra.png)\n"
   ]
  },
  {
   "cell_type": "code",
   "execution_count": null,
   "metadata": {},
   "outputs": [],
   "source": [
    "#Sélectionner cette zone puis SHIFT+ENTREE\n",
    "from IPython.display import display, HTML ; display(HTML('fig_dyn_GeoGebra/Brouncker.html'))"
   ]
  },
  {
   "cell_type": "markdown",
   "metadata": {},
   "source": [
    "<br><br>\n",
    "On \"empile\" successivement des rectangles sous la courbe de $h$ de la façon suivante : \n",
    "<ul>\n",
    "    <li>Le premier rectangle est construit sur l'axe des abscisses, entre les abscisses $1$ et $2$, et de hauteur maximale sous la courbe de $h$ ;</li>\n",
    "    <li>À chaque étape, on introduit les milieux des abscisses utilisées à l'étape précédente, et on construit à partir de ces abscisses et des précédentes des rectangles situés au dessus des précédents, de hauteurs maximales sous la courbe de $h$.</li>\n",
    "</ul>\n",
    "<br>\n",
    "Au vu de la figure, on <strong>admettra</strong> que les sommes des aires des rectangles ainsi successivement construits ont pour limite l'aire de la zone que l'on cherche à calculer.\n",
    "\n",
    "Pour la suite, on utilisera les notations introduites sur les figures fournies.<br><br>\n",
    "\n",
    "__1.2. a. Calculer $Aire(R_1)$.__<br>\n",
    "__$\\quad\\;$ b. En raisonnant par soustraction, justifier que $Aire(R_2)=\\frac{1}{3}-\\frac{1}{4}$__<br>\n",
    "\n",
    "\n"
   ]
  },
  {
   "cell_type": "markdown",
   "metadata": {},
   "source": [
    "![Brouncker_etape1](img/Brouncker_img1.png)"
   ]
  },
  {
   "cell_type": "markdown",
   "metadata": {},
   "source": [
    "__1.3. En raisonnant par soustraction, justifier que $Aire(R_3)=\\frac{1}{5}-\\frac{1}{6}$ puis que $Aire(R_4)=\\frac{1}{7}-\\frac{1}{8}$.__<br>\n",
    "\n"
   ]
  },
  {
   "cell_type": "markdown",
   "metadata": {},
   "source": [
    "![Brouncker_etape2](img/Brouncker_img2.png)"
   ]
  },
  {
   "cell_type": "markdown",
   "metadata": {},
   "source": [
    "__1.4 Donner les valeurs de $Aire(R_5)$, $Aire(R_6)$, $Aire(R_7)$ et $Aire(R_8)$.__<br><br>\n",
    "\n"
   ]
  },
  {
   "cell_type": "markdown",
   "metadata": {},
   "source": [
    "![Brouncker_etape3](img/Brouncker_img3.png)"
   ]
  },
  {
   "cell_type": "markdown",
   "metadata": {},
   "source": [
    "## <span style=\"color:#8E44AD\" id=\"2\">2. Implémentation de l'algorithme de Brouncker</span>"
   ]
  },
  {
   "cell_type": "markdown",
   "metadata": {},
   "source": [
    "__2.1. Soit $k\\in\\mathbb{N}^*$. En réduisant au même dénominateur, exprimer $\\frac{1}{2k-1}-\\frac{1}{2k}$ sous forme d'une fraction.__\n",
    "<br>\n",
    "\n",
    "\n",
    "__2.2. Justifier que la somme des $8$ rectangles $R_k$ précédemment construits, pour $1\\leq k \\leq 8$, vaut $ \\sum\\limits_{k=1}^8{\\frac{1}{(2k-1)\\times(2k)}} =\\frac{1}{1\\times2}+\\frac{1}{3\\times4}+...+\\frac{1}{15\\times16}$.__\n",
    "<br>\n",
    "\n",
    "\n",
    "__2.3. Écrire une fonction Python <mark>Brouncker</mark> qui permet de calculer cette somme.__\n",
    "<br>$\\quad\\;$On pourra incrémenter un accumulateur S dans une boucle pour additionner, l'une après l'autre, les aires de ces rectangles."
   ]
  },
  {
   "cell_type": "code",
   "execution_count": null,
   "metadata": {},
   "outputs": [],
   "source": [
    "# Écrire ici la fonction Brouncker qui renvoie la somme des 8 rectangles \n",
    "\n",
    "\n"
   ]
  },
  {
   "cell_type": "markdown",
   "metadata": {},
   "source": [
    "On admet maintenant que la somme $ \\sum\\limits_{k=1}^n{\\frac{1}{(2k-1)\\times(2k)}} =\\frac{1}{1\\times2}+\\frac{1}{3\\times4}+...+\\frac{1}{(2n-1)\\times(2n)}$ a pour limite $ln(2)$ quand $n$ tend vers $+\\infty$.\n",
    "\n",
    "\n",
    "\n",
    "__2.4. Adapter la fonction <mark>Brouncker</mark> précédente pour qu'elle reçoive $n$ en argument et permette de calculer cette somme.__"
   ]
  },
  {
   "cell_type": "code",
   "execution_count": null,
   "metadata": {},
   "outputs": [],
   "source": [
    "# Écrire ici la fonction Brouncker qui renvoie la somme des n rectangles \n",
    "\n",
    "\n"
   ]
  },
  {
   "cell_type": "markdown",
   "metadata": {},
   "source": [
    "__2.5. Effectuer une saisie pour obtenir une valeur approchée de $ln(2)$ obtenue par la méthode de Brouncker avec 100000 rectangles.__"
   ]
  },
  {
   "cell_type": "code",
   "execution_count": null,
   "metadata": {},
   "outputs": [],
   "source": [
    "# Écrire ici l'appel à la fonction Brouncker\n",
    "\n"
   ]
  },
  {
   "cell_type": "markdown",
   "metadata": {},
   "source": [
    "__2.6. La syntaxe <mark>from math import log</mark> permet d'utiliser la fonction Python <mark>log</mark> qui correspond à la fonction mathématique $ln$.__<br>\n",
    "__$\\quad\\;\\;$Effectuer la saisie nécessaire pour calculer $ln(2)$, puis comparer avec le résultat obtenu à la question précédente.__<br>"
   ]
  },
  {
   "cell_type": "code",
   "execution_count": null,
   "metadata": {},
   "outputs": [],
   "source": [
    "# Écrire ici les saisies nécessaires pour calculer le logarithme népérien de 2\n",
    "\n"
   ]
  },
  {
   "cell_type": "markdown",
   "metadata": {},
   "source": [
    "![Brouncker](img/William_Brouncker.jpg)\n",
    "\n",
    "<center><a href=\"https://fr.wikipedia.org/wiki/William_Brouncker\">William Brouncker</a> (1620-1684) </center>"
   ]
  },
  {
   "cell_type": "markdown",
   "metadata": {},
   "source": [
    "*(C) Copyright Franck CHEVRIER 2019-2020 http://www.python-lycee.com/*\n"
   ]
  }
 ],
 "metadata": {
  "celltoolbar": "Raw Cell Format",
  "kernelspec": {
   "display_name": "Python 3",
   "language": "python",
   "name": "python3"
  },
  "language_info": {
   "codemirror_mode": {
    "name": "ipython",
    "version": 3
   },
   "file_extension": ".py",
   "mimetype": "text/x-python",
   "name": "python",
   "nbconvert_exporter": "python",
   "pygments_lexer": "ipython3",
   "version": "3.7.8"
  }
 },
 "nbformat": 4,
 "nbformat_minor": 2
}
