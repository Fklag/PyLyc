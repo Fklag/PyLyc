{
 "cells": [
  {
   "cell_type": "markdown",
   "metadata": {},
   "source": [
    "![En tête general](img/En_tete_general.png)\n",
    "\n",
    "*(C) Copyright Franck CHEVRIER 2019-2020 http://www.python-lycee.com/*\n",
    "\n",
    "<span style=\"color: #9317B4\"> Pour exécuter une saisie Python, sélectionner la cellule et valider avec </span><span style=\"color: #B317B4\"><strong>SHIFT+Entrée</strong></span>."
   ]
  },
  {
   "cell_type": "markdown",
   "metadata": {},
   "source": [
    "## Traitement de données <span style=\"color: red\"> (corrigé)</span> "
   ]
  },
  {
   "cell_type": "markdown",
   "metadata": {},
   "source": [
    "__1. Exécuter la série d'instructions suivante qui permet d'ouvrir un fichier tableur de format csv.__\n",
    "\n",
    "__Le fichier utilisé ici contient la liste des achats effectués dans une épicerie, dans l'ordre chronologique, où on suppose que les noms des clients sont enregistés lors de la présentation de leur carte de fidélité, s'ils en ont une. Le numéro de la caisse utilisée et le montant de l'achat sont stockés dans le fichier.__\n",
    "\n",
    "__Vous pouvez visualiser le contenu de ce fichier <a href=\"https://github.com/PythonLycee/PyLyc/blob/master/SNT/Bilan_Commerce.csv\">ICI</a>.__"
   ]
  },
  {
   "cell_type": "code",
   "execution_count": 1,
   "metadata": {},
   "outputs": [
    {
     "name": "stdout",
     "output_type": "stream",
     "text": [
      "['Date', 'Client', 'Caisse', 'Montant']\n",
      "['15/05/2020', 'Fabrice Dumont', '1', '19.99']\n",
      "['15/05/2020', 'Helene Hardt', '3', '12.45']\n",
      "['15/05/2020', 'Bruno Gald', '3', '15.80']\n",
      "['16/05/2020', '', '4', '7.30']\n",
      "['16/05/2020', 'Fabrice Dumont', '2', '5.00']\n",
      "['16/05/2020', 'Bruno Gald', '2', '37.45']\n",
      "['16/05/2020', 'Helene Hardt', '4', '28.20']\n",
      "['17/05/2020', '', '3', '15.80']\n",
      "['17/05/2020', 'Fabrice Dumont', '1', '24.80']\n",
      "['18/05/2020', 'Bruno Gald', '1', '44.50']\n",
      "['18/05/2020', 'Helene Hardt', '3', '12.20']\n",
      "['18/05/2020', 'Fabrice Dumont', '4', '18.85']\n"
     ]
    }
   ],
   "source": [
    "import csv\n",
    "\n",
    "with open('Bilan_commerce.csv', newline='') as csvfile:    #ouverture du fichier\n",
    "    \n",
    "    lecture = csv.reader(csvfile, delimiter=';') #création d'un pointeur de lecture\n",
    "       \n",
    "    for ligne in lecture: #pour chaque ligne dans la lecture\n",
    "        print(ligne)      #on écrit le contenu de la ligne  \n",
    "\n",
    "    csvfile.close()       #fermeture du fichier\n",
    "        \n"
   ]
  },
  {
   "cell_type": "markdown",
   "metadata": {},
   "source": [
    "__2. La première ligne du fichier contient la légende des colonnes.__ \n",
    "\n",
    "__Si on souhaite récupérer uniquement les données, on sauter la 1ère ligne en début de lecture (next=suivant).__\n",
    "\n",
    "__Tester la série d'instruction suivante, qui balaye uniquement les données contenues dans le fichier.__"
   ]
  },
  {
   "cell_type": "code",
   "execution_count": 2,
   "metadata": {},
   "outputs": [
    {
     "data": {
      "text/plain": [
       "[['15/05/2020', 'Fabrice Dumont', '1', '19.99'],\n",
       " ['15/05/2020', 'Helene Hardt', '3', '12.45'],\n",
       " ['15/05/2020', 'Bruno Gald', '3', '15.80'],\n",
       " ['16/05/2020', '', '4', '7.30'],\n",
       " ['16/05/2020', 'Fabrice Dumont', '2', '5.00'],\n",
       " ['16/05/2020', 'Bruno Gald', '2', '37.45'],\n",
       " ['16/05/2020', 'Helene Hardt', '4', '28.20'],\n",
       " ['17/05/2020', '', '3', '15.80'],\n",
       " ['17/05/2020', 'Fabrice Dumont', '1', '24.80'],\n",
       " ['18/05/2020', 'Bruno Gald', '1', '44.50'],\n",
       " ['18/05/2020', 'Helene Hardt', '3', '12.20'],\n",
       " ['18/05/2020', 'Fabrice Dumont', '4', '18.85']]"
      ]
     },
     "execution_count": 2,
     "metadata": {},
     "output_type": "execute_result"
    }
   ],
   "source": [
    "import csv\n",
    "\n",
    "with open('Bilan_commerce.csv', newline='') as csvfile:\n",
    "    \n",
    "    lecture = csv.reader(csvfile, delimiter=';') \n",
    "    next(lecture)              #pour ignorer la première ligne avec les légendes\n",
    "    \n",
    "    Donnees=[]                 #on crée une liste de données\n",
    "    \n",
    "    for ligne in lecture:      #pour chaque ligne\n",
    "        Donnees.append(ligne)  #on range le contenu de la ligne dans Donnees      \n",
    "    \n",
    "    csvfile.close()            #fermeture du fichier\n",
    "    \n",
    "Donnees #affichage des données"
   ]
  },
  {
   "cell_type": "markdown",
   "metadata": {},
   "source": [
    "__3. Tester les instructions suivantes. Que permettent-elle d'afficher?__"
   ]
  },
  {
   "cell_type": "code",
   "execution_count": 3,
   "metadata": {},
   "outputs": [
    {
     "data": {
      "text/plain": [
       "['16/05/2020', 'Bruno Gald', '2', '37.45']"
      ]
     },
     "execution_count": 3,
     "metadata": {},
     "output_type": "execute_result"
    }
   ],
   "source": [
    "ligne = Donnees[5]\n",
    "\n",
    "ligne"
   ]
  },
  {
   "cell_type": "code",
   "execution_count": 4,
   "metadata": {},
   "outputs": [
    {
     "data": {
      "text/plain": [
       "'15.80'"
      ]
     },
     "execution_count": 4,
     "metadata": {},
     "output_type": "execute_result"
    }
   ],
   "source": [
    "ligne = Donnees[2]\n",
    "ligne[3]  "
   ]
  },
  {
   "cell_type": "code",
   "execution_count": 5,
   "metadata": {},
   "outputs": [
    {
     "name": "stdout",
     "output_type": "stream",
     "text": [
      "19.99\n",
      "12.45\n",
      "15.80\n",
      "7.30\n",
      "5.00\n",
      "37.45\n",
      "28.20\n",
      "15.80\n",
      "24.80\n",
      "44.50\n",
      "12.20\n",
      "18.85\n"
     ]
    }
   ],
   "source": [
    "for ligne in Donnees:\n",
    "    print(ligne[3])"
   ]
  },
  {
   "cell_type": "markdown",
   "metadata": {},
   "source": [
    "__4. Lorsqu'on récupère des données, elles sont sous forme str (chaines de caractères). Pour rétablir les informations numériques, il faut rétablir leur type.__\n",
    "__(float pour nombres décimaux, int pour entiers)__\n",
    "\n",
    "__La série d'instructions suivante permet de rétablir les numéros de caisse sous forme d'entiers.__\n",
    "\n",
    "__Compléter avec une instruction qui permette de rétablir les montants des achats sous forme de nombres décimaux.__"
   ]
  },
  {
   "cell_type": "code",
   "execution_count": 6,
   "metadata": {},
   "outputs": [
    {
     "data": {
      "text/plain": [
       "[['15/05/2020', 'Fabrice Dumont', 1, 19.99],\n",
       " ['15/05/2020', 'Helene Hardt', 3, 12.45],\n",
       " ['15/05/2020', 'Bruno Gald', 3, 15.8],\n",
       " ['16/05/2020', '', 4, 7.3],\n",
       " ['16/05/2020', 'Fabrice Dumont', 2, 5.0],\n",
       " ['16/05/2020', 'Bruno Gald', 2, 37.45],\n",
       " ['16/05/2020', 'Helene Hardt', 4, 28.2],\n",
       " ['17/05/2020', '', 3, 15.8],\n",
       " ['17/05/2020', 'Fabrice Dumont', 1, 24.8],\n",
       " ['18/05/2020', 'Bruno Gald', 1, 44.5],\n",
       " ['18/05/2020', 'Helene Hardt', 3, 12.2],\n",
       " ['18/05/2020', 'Fabrice Dumont', 4, 18.85]]"
      ]
     },
     "execution_count": 6,
     "metadata": {},
     "output_type": "execute_result"
    }
   ],
   "source": [
    "for ligne in Donnees: \n",
    "    ligne[2] = int(ligne[2])   #conversion des numéros de caisse en entiers\n",
    "    ligne[3] = float(ligne[3]) #conversion des montants des achats en décimaux (à écrire)\n",
    "\n",
    "Donnees"
   ]
  },
  {
   "cell_type": "markdown",
   "metadata": {},
   "source": [
    "__Vérifier, avant de continuer, que vos données sont bien structurées comme ci-dessous.__"
   ]
  },
  {
   "cell_type": "raw",
   "metadata": {},
   "source": [
    "[['15/05/2020', 'Fabrice Dumont', 1, 19.99],\n",
    " ['15/05/2020', 'Helene Hardt', 3, 12.45],\n",
    " ['15/05/2020', 'Bruno Gald', 3, 15.8],\n",
    " ['16/05/2020', '', 4, 7.3],\n",
    " ['16/05/2020', 'Fabrice Dumont', 2, 5.0],\n",
    " ['16/05/2020', 'Bruno Gald', 2, 37.45],\n",
    " ['16/05/2020', 'Helene Hardt', 4, 28.2],\n",
    " ['17/05/2020', '', 3, 15.8],\n",
    " ['17/05/2020', 'Fabrice Dumont', 1, 24.8],\n",
    " ['18/05/2020', 'Bruno Gald', 1, 44.5],\n",
    " ['18/05/2020', 'Helene Hardt', 3, 12.2],\n",
    " ['18/05/2020', 'Fabrice Dumont', 4, 18.85]]"
   ]
  },
  {
   "cell_type": "markdown",
   "metadata": {},
   "source": [
    "__5. Utiliser les zones de saisies pour obtenir:__\n",
    "\n",
    "\n",
    "__a. le nom du 7e client__\n",
    "\n",
    "\n",
    "__b. le montant du 3e achat__\n",
    "\n",
    "\n",
    "__c. la date du 4e achat__\n"
   ]
  },
  {
   "cell_type": "code",
   "execution_count": 7,
   "metadata": {},
   "outputs": [
    {
     "data": {
      "text/plain": [
       "'Helene Hardt'"
      ]
     },
     "execution_count": 7,
     "metadata": {},
     "output_type": "execute_result"
    }
   ],
   "source": [
    "#Saisie pour le nom du 7e client\n",
    "Donnees[6][1]\n"
   ]
  },
  {
   "cell_type": "code",
   "execution_count": 8,
   "metadata": {},
   "outputs": [
    {
     "data": {
      "text/plain": [
       "15.8"
      ]
     },
     "execution_count": 8,
     "metadata": {},
     "output_type": "execute_result"
    }
   ],
   "source": [
    "#Saisie pour le montant du 3e achat\n",
    "Donnees[2][3]\n"
   ]
  },
  {
   "cell_type": "code",
   "execution_count": 9,
   "metadata": {},
   "outputs": [
    {
     "data": {
      "text/plain": [
       "'16/05/2020'"
      ]
     },
     "execution_count": 9,
     "metadata": {},
     "output_type": "execute_result"
    }
   ],
   "source": [
    "#Saisie pour la date du 4e achat\n",
    "Donnees[3][0]\n"
   ]
  },
  {
   "cell_type": "markdown",
   "metadata": {},
   "source": [
    "__6. Tester la série d'instructions suivantes. Que représente la valeur compteur obtenue?__\n"
   ]
  },
  {
   "cell_type": "code",
   "execution_count": 10,
   "metadata": {},
   "outputs": [
    {
     "data": {
      "text/plain": [
       "4"
      ]
     },
     "execution_count": 10,
     "metadata": {},
     "output_type": "execute_result"
    }
   ],
   "source": [
    "compteur = 0\n",
    "\n",
    "for ligne in Donnees:\n",
    "    if ligne[1]=='Fabrice Dumont':\n",
    "        compteur = compteur+1\n",
    "\n",
    "compteur  \n",
    "    "
   ]
  },
  {
   "cell_type": "markdown",
   "metadata": {},
   "source": [
    "__7. Utiliser les zones de saisie pour obtenir:__\n",
    "\n",
    "\n",
    "__a. le nombre d'achats qui ont été effectués le 17/05/2020__\n",
    "\n",
    "\n",
    "__b. le nombre d'achats qui ont été effectués à la caisse n°1__\n",
    "   "
   ]
  },
  {
   "cell_type": "code",
   "execution_count": 11,
   "metadata": {},
   "outputs": [
    {
     "data": {
      "text/plain": [
       "2"
      ]
     },
     "execution_count": 11,
     "metadata": {},
     "output_type": "execute_result"
    }
   ],
   "source": [
    "#Saisie pour le nombre d'achats qui ont été effectués le 17/05/2020\n",
    "\n",
    "compteur = 0\n",
    "\n",
    "for ligne in Donnees:\n",
    "    if ligne[0]=='17/05/2020':\n",
    "        compteur = compteur+1\n",
    "\n",
    "compteur  \n"
   ]
  },
  {
   "cell_type": "code",
   "execution_count": 12,
   "metadata": {},
   "outputs": [
    {
     "data": {
      "text/plain": [
       "3"
      ]
     },
     "execution_count": 12,
     "metadata": {},
     "output_type": "execute_result"
    }
   ],
   "source": [
    "#Saisie pour le nombre d'achats qui ont été effectués à la caisse n°1\n",
    "\n",
    "compteur = 0\n",
    " \n",
    "for ligne in Donnees:\n",
    "    if ligne[2]==1:\n",
    "        compteur = compteur+1\n",
    "\n",
    "compteur  "
   ]
  },
  {
   "cell_type": "markdown",
   "metadata": {},
   "source": [
    "__8. Utiliser la zone de saisie pour obtenir le montant total des achats effectués pour l'ensemble des données__\n",
    "\n"
   ]
  },
  {
   "cell_type": "code",
   "execution_count": 13,
   "metadata": {},
   "outputs": [
    {
     "data": {
      "text/plain": [
       "242.34"
      ]
     },
     "execution_count": 13,
     "metadata": {},
     "output_type": "execute_result"
    }
   ],
   "source": [
    "#Saisie pour le montant total des achats effectués pour l'ensemble des données\n",
    "\n",
    "Somme=0\n",
    "\n",
    "for ligne in Donnees:\n",
    "    Somme = Somme + ligne[3]\n",
    "\n",
    "Somme \n"
   ]
  },
  {
   "cell_type": "markdown",
   "metadata": {},
   "source": [
    "*(C) Copyright Franck CHEVRIER 2019-2020 http://www.python-lycee.com/*"
   ]
  }
 ],
 "metadata": {
  "kernelspec": {
   "display_name": "Python 3",
   "language": "python",
   "name": "python3"
  },
  "language_info": {
   "codemirror_mode": {
    "name": "ipython",
    "version": 3
   },
   "file_extension": ".py",
   "mimetype": "text/x-python",
   "name": "python",
   "nbconvert_exporter": "python",
   "pygments_lexer": "ipython3",
   "version": "3.6.4"
  }
 },
 "nbformat": 4,
 "nbformat_minor": 2
}
