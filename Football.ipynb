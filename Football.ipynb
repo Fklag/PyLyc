{
 "cells": [
  {
   "cell_type": "markdown",
   "metadata": {},
   "source": [
    "![En tête general](img/En_tete_general.png)\n",
    "\n",
    "\n",
    "*(C) Copyright Franck CHEVRIER 2019-2020 http://www.python-lycee.com/*\n",
    "\n",
    "<span style=\"color: #9317B4\"> Pour exécuter une saisie Python, sélectionner la cellule et valider avec </span><span style=\"color: #B317B4\"><strong>SHIFT+Entrée</strong></span>.\n"
   ]
  },
  {
   "cell_type": "markdown",
   "metadata": {},
   "source": [
    "# Football"
   ]
  },
  {
   "cell_type": "markdown",
   "metadata": {},
   "source": [
    "Un joueur de foot, situé à 18m du but, effectue un tir en cloche.<br>\n",
    "La situation est modélisée sur la figure ci-dessous (les dimensions sont exprimées en mètres).\n",
    "On suppose que :\n",
    "<ul>\n",
    "    <li>la trajectoire du ballon est <strong>parabolique</strong> et passe par les points $A(-18;0)$ et $B(-14;3.5)$.</li>\n",
    "    <li>la tangente à la courbe en $A$ forme un angle de $45°$ avec l'horizontale.</li>\n",
    "</ul>\n",
    "\n",
    "L'animation ci-dessous d'obtenir le début de la représentation graphique de ce tir. Les distances seront exprimés en mètre.\n",
    "\n",
    "\n",
    "<span style=\"color: #FF0000\">Pour faire apparaître et activer l'animation, sélectionner la cellule ci-dessous et valider avec <strong>SHIFT+Entrée</strong>.</span>\n",
    "\n",
    "\n",
    "<span style=\"color: #BDBFBF\">Vous pouvez ensuite utiliser les menus cinématiques :</span>\n",
    "\n",
    "\n",
    "![Menus_animation](img/menus_animation_GeoGebra.png)\n",
    "\n"
   ]
  },
  {
   "cell_type": "code",
   "execution_count": 1,
   "metadata": {},
   "outputs": [
    {
     "data": {
      "text/html": [
       "fig_dyn_GeoGebra/Base_Ball.html"
      ],
      "text/plain": [
       "<IPython.core.display.HTML object>"
      ]
     },
     "metadata": {},
     "output_type": "display_data"
    }
   ],
   "source": [
    "#Sélectionner cette zone puis SHIFT+ENTREE\n",
    "from IPython.display import display, HTML ; display(HTML('fig_dyn_GeoGebra/FootBall.html'))"
   ]
  },
  {
   "cell_type": "markdown",
   "metadata": {},
   "source": [
    "__On note $f$ la fonction qui à l'abscisse $x$ de la balle associe son ordonnée $f(x)$.__<br><br>\n",
    "__1. On rappelle que la trajectoire est parabolique.__<br>\n",
    "$\\;\\;\\;$__a. Donner l'expression de $f(x)$ exprimée à l'aide de 3 coefficients $a$ ; $b$ ; $c$ qui seront déterminés par la suite.__<br>\n",
    "$\\;\\;\\;$__b. Donner l'expression de $f'(x)$ exprimée à l'aide des 3 coefficients $a$ ; $b$ ; $c$.__<br><br>\n",
    "__2. À l'aide de l'énoncé, donner les valeurs de $f(-18)$ ; $f(-14)$ et $f'(-18)$.__<br><br>\n",
    "__3. a. En déduire que $(a;b;c)$ est solution d'un système de 3 équations à 3 inconnues.__<br>\n",
    "$\\;\\;\\;$__b. Écrire ce système sous forme matricielle, puis le résoudre à l'aide de la calculatrice.__<br>\n",
    "$\\;\\;\\;$__c. En déduire l'expression de $f(x)$.__<br><br>\n",
    "__4. a. À quelle hauteur maximale le ballon va-t-il s'élever ?__<br>\n",
    "$\\;\\;\\;$__b. Sachant que le but a une hauteur de $2,44m$, le tir est-il cadré ?__<br><br>\n",
    "__5. Vérifier la résolution du système précédent à l'aide de saisies Python.__"
   ]
  },
  {
   "cell_type": "code",
   "execution_count": 2,
   "metadata": {},
   "outputs": [],
   "source": [
    "from numpy import*\n",
    "from numpy.linalg import*\n",
    "\n",
    "#Créer ici les matrices apparaissant dans le système obtenu dans la question 4.a\n",
    "A = array([[,,],\n",
    "           [,,],\n",
    "           [,,]])\n",
    "\n",
    "B = array([[],\n",
    "           [],\n",
    "           []])"
   ]
  },
  {
   "cell_type": "code",
   "execution_count": null,
   "metadata": {},
   "outputs": [],
   "source": [
    "# Effectuer ici la saisie nécessaire pour résoudre le système\n",
    "# Rappel : inv() permet d'inverser une matrice et dot(,) permet de multiplier des matrices\n",
    "\n",
    "\n"
   ]
  },
  {
   "cell_type": "markdown",
   "metadata": {},
   "source": [
    "## Pour s'entraîner...\n",
    "\n",
    "On donne ci-contre les dimensions d’un terrain de Volley-Ball.\n",
    "\n",
    "![Terrain_volley](img/Volley_terrain.png)\n",
    "\n",
    "Un joueur effectue un smash !!!\n",
    "Passant au dessus du filet, la balle suit une trajectoire parabolique.\n",
    "\n",
    "Un appareil photo à déclenchement en rafales a permis de déterminer que la \n",
    "balle est passée par les points $A(-2;2)$ ; $B(-1;2,45)$ et $C(4;3,2)$ dans le repère ci-dessous défini à partir du filet.\n",
    "\n",
    "![Repere_volley](img/Volley_repere.png)\n",
    "\n",
    "<strong>Question 1 :</strong>\t\n",
    "Placé à $6m$ du filet, un joueur saute et s’interpose jusqu’à la hauteur de $2,55m$. \n",
    "Va-t-il intercepter la balle ?\n",
    "\n",
    "<strong>Question 2 :</strong> \t\n",
    "Où la balle retombera-t-elle ? Le point sera-t-il marqué ?\n"
   ]
  },
  {
   "cell_type": "code",
   "execution_count": null,
   "metadata": {},
   "outputs": [],
   "source": [
    "#On pourra utiliser cette zone Python pour vérifier la résolution du système qu'on est amené à résoudre dans cet exercice\n",
    "from numpy import*\n",
    "from numpy.linalg import*\n",
    "\n",
    "\n"
   ]
  },
  {
   "cell_type": "markdown",
   "metadata": {},
   "source": [
    "*(C) Copyright Franck CHEVRIER 2019-2020 http://www.python-lycee.com/*\n"
   ]
  }
 ],
 "metadata": {
  "celltoolbar": "Raw Cell Format",
  "kernelspec": {
   "display_name": "Python 3",
   "language": "python",
   "name": "python3"
  },
  "language_info": {
   "codemirror_mode": {
    "name": "ipython",
    "version": 3
   },
   "file_extension": ".py",
   "mimetype": "text/x-python",
   "name": "python",
   "nbconvert_exporter": "python",
   "pygments_lexer": "ipython3",
   "version": "3.6.4"
  }
 },
 "nbformat": 4,
 "nbformat_minor": 2
}
